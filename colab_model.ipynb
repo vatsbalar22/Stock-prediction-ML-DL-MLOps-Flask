{
  "cells": [
    {
      "cell_type": "markdown",
      "metadata": {
        "colab_type": "text",
        "id": "view-in-github"
      },
      "source": [
        "<a href=\"https://colab.research.google.com/github/vatsbalar22/Stock-prediction-ML-DL-MLOps-Flask/blob/main/colab_model.ipynb\" target=\"_parent\"><img src=\"https://colab.research.google.com/assets/colab-badge.svg\" alt=\"Open In Colab\"/></a>"
      ]
    },
    {
      "cell_type": "markdown",
      "metadata": {
        "id": "jKp-1FswpOTs"
      },
      "source": [
        "# Model train with Deep Learnig"
      ]
    },
    {
      "cell_type": "markdown",
      "metadata": {
        "id": "bYfWzAsFpWwp"
      },
      "source": [
        "# Data extract through API"
      ]
    },
    {
      "cell_type": "code",
      "execution_count": 5,
      "metadata": {
        "id": "5OMbqM-1VG_s"
      },
      "outputs": [],
      "source": [
        "# from alpha_vantage.timeseries import TimeSeries\n",
        "# api_key = 'RDW63LUED9U3S55M'\n",
        "# symbol = 'RELIANCE.BSE'\n",
        "\n",
        "# def get_stock_data(symbol, api_key):\n",
        "#     ts = TimeSeries(key=api_key, output_format='pandas')\n",
        "#     data, meta_data = ts.get_daily(symbol=symbol, outputsize='full')\n",
        "#     return data\n",
        "# def prepare_data(data):\n",
        "#     data = data[['1. open', '2. high', '3. low', '4. close', '5. volume']]\n",
        "#     data.columns = ['Open', 'High', 'Low', 'Close', 'Volume']\n",
        "#     return data\n",
        "\n",
        "# data = get_stock_data(symbol,api_key)\n",
        "# df = prepare_data(data)\n",
        "\n"
      ]
    },
    {
      "cell_type": "code",
      "execution_count": 6,
      "metadata": {
        "colab": {
          "base_uri": "https://localhost:8080/"
        },
        "id": "oc8Qg8wQIWCU",
        "outputId": "0ec19c7f-86c8-48cf-9ae8-afe2be69baff"
      },
      "outputs": [
        {
          "name": "stderr",
          "output_type": "stream",
          "text": [
            "[*********************100%%**********************]  1 of 1 completed\n"
          ]
        }
      ],
      "source": [
        "# Get accurate data using yfinance library\n",
        "# Give symbol and start and end date\n",
        "\n",
        "import yfinance as yf\n",
        "from datetime import datetime\n",
        "\n",
        "symbol='RELIANCE.BO'\n",
        "start_date = \"2005-01-03\"\n",
        "end_date = datetime.today().strftime('%Y-%m-%d')\n",
        "df = yf.download(symbol ,start=start_date , end= end_date)\n"
      ]
    },
    {
      "cell_type": "markdown",
      "metadata": {
        "id": "IGdYnaE0QRUr"
      },
      "source": [
        "### DATA Preprocessing if we are using yfinance library"
      ]
    },
    {
      "cell_type": "code",
      "execution_count": 7,
      "metadata": {
        "colab": {
          "base_uri": "https://localhost:8080/",
          "height": 424
        },
        "id": "EkLtJcD0VSNH",
        "outputId": "2c44eeea-f538-4230-ff36-72009252fb04"
      },
      "outputs": [
        {
          "data": {
            "text/html": [
              "<div>\n",
              "<style scoped>\n",
              "    .dataframe tbody tr th:only-of-type {\n",
              "        vertical-align: middle;\n",
              "    }\n",
              "\n",
              "    .dataframe tbody tr th {\n",
              "        vertical-align: top;\n",
              "    }\n",
              "\n",
              "    .dataframe thead th {\n",
              "        text-align: right;\n",
              "    }\n",
              "</style>\n",
              "<table border=\"1\" class=\"dataframe\">\n",
              "  <thead>\n",
              "    <tr style=\"text-align: right;\">\n",
              "      <th></th>\n",
              "      <th>Date</th>\n",
              "      <th>Open</th>\n",
              "      <th>High</th>\n",
              "      <th>Low</th>\n",
              "      <th>Close</th>\n",
              "      <th>Adj Close</th>\n",
              "      <th>Volume</th>\n",
              "    </tr>\n",
              "  </thead>\n",
              "  <tbody>\n",
              "    <tr>\n",
              "      <th>0</th>\n",
              "      <td>2005-01-03</td>\n",
              "      <td>130.012497</td>\n",
              "      <td>136.125000</td>\n",
              "      <td>130.012497</td>\n",
              "      <td>135.774994</td>\n",
              "      <td>99.178894</td>\n",
              "      <td>11731288</td>\n",
              "    </tr>\n",
              "    <tr>\n",
              "      <th>1</th>\n",
              "      <td>2005-01-04</td>\n",
              "      <td>133.750000</td>\n",
              "      <td>136.237503</td>\n",
              "      <td>132.375000</td>\n",
              "      <td>132.699997</td>\n",
              "      <td>96.932709</td>\n",
              "      <td>9965116</td>\n",
              "    </tr>\n",
              "    <tr>\n",
              "      <th>2</th>\n",
              "      <td>2005-01-05</td>\n",
              "      <td>131.375000</td>\n",
              "      <td>133.500000</td>\n",
              "      <td>129.062500</td>\n",
              "      <td>132.475006</td>\n",
              "      <td>96.768379</td>\n",
              "      <td>16794452</td>\n",
              "    </tr>\n",
              "    <tr>\n",
              "      <th>3</th>\n",
              "      <td>2005-01-06</td>\n",
              "      <td>131.250000</td>\n",
              "      <td>134.125000</td>\n",
              "      <td>130.649994</td>\n",
              "      <td>131.487503</td>\n",
              "      <td>96.047035</td>\n",
              "      <td>13319768</td>\n",
              "    </tr>\n",
              "    <tr>\n",
              "      <th>4</th>\n",
              "      <td>2005-01-07</td>\n",
              "      <td>132.000000</td>\n",
              "      <td>136.875000</td>\n",
              "      <td>131.887497</td>\n",
              "      <td>135.212494</td>\n",
              "      <td>98.768005</td>\n",
              "      <td>16809884</td>\n",
              "    </tr>\n",
              "    <tr>\n",
              "      <th>...</th>\n",
              "      <td>...</td>\n",
              "      <td>...</td>\n",
              "      <td>...</td>\n",
              "      <td>...</td>\n",
              "      <td>...</td>\n",
              "      <td>...</td>\n",
              "      <td>...</td>\n",
              "    </tr>\n",
              "    <tr>\n",
              "      <th>4701</th>\n",
              "      <td>2024-02-29</td>\n",
              "      <td>2931.050049</td>\n",
              "      <td>2958.000000</td>\n",
              "      <td>2909.550049</td>\n",
              "      <td>2924.750000</td>\n",
              "      <td>2924.750000</td>\n",
              "      <td>192376</td>\n",
              "    </tr>\n",
              "    <tr>\n",
              "      <th>4702</th>\n",
              "      <td>2024-03-01</td>\n",
              "      <td>2916.699951</td>\n",
              "      <td>2999.000000</td>\n",
              "      <td>2916.699951</td>\n",
              "      <td>2986.000000</td>\n",
              "      <td>2986.000000</td>\n",
              "      <td>544407</td>\n",
              "    </tr>\n",
              "    <tr>\n",
              "      <th>4703</th>\n",
              "      <td>2024-03-04</td>\n",
              "      <td>2981.000000</td>\n",
              "      <td>3024.800049</td>\n",
              "      <td>2975.050049</td>\n",
              "      <td>3011.600098</td>\n",
              "      <td>3011.600098</td>\n",
              "      <td>139795</td>\n",
              "    </tr>\n",
              "    <tr>\n",
              "      <th>4704</th>\n",
              "      <td>2024-03-05</td>\n",
              "      <td>3011.699951</td>\n",
              "      <td>3011.699951</td>\n",
              "      <td>2973.000000</td>\n",
              "      <td>2998.300049</td>\n",
              "      <td>2998.300049</td>\n",
              "      <td>70928</td>\n",
              "    </tr>\n",
              "    <tr>\n",
              "      <th>4705</th>\n",
              "      <td>2024-03-06</td>\n",
              "      <td>2989.449951</td>\n",
              "      <td>3019.000000</td>\n",
              "      <td>2957.000000</td>\n",
              "      <td>3005.949951</td>\n",
              "      <td>3005.949951</td>\n",
              "      <td>110021</td>\n",
              "    </tr>\n",
              "  </tbody>\n",
              "</table>\n",
              "<p>4706 rows × 7 columns</p>\n",
              "</div>"
            ],
            "text/plain": [
              "           Date         Open         High          Low        Close  \\\n",
              "0    2005-01-03   130.012497   136.125000   130.012497   135.774994   \n",
              "1    2005-01-04   133.750000   136.237503   132.375000   132.699997   \n",
              "2    2005-01-05   131.375000   133.500000   129.062500   132.475006   \n",
              "3    2005-01-06   131.250000   134.125000   130.649994   131.487503   \n",
              "4    2005-01-07   132.000000   136.875000   131.887497   135.212494   \n",
              "...         ...          ...          ...          ...          ...   \n",
              "4701 2024-02-29  2931.050049  2958.000000  2909.550049  2924.750000   \n",
              "4702 2024-03-01  2916.699951  2999.000000  2916.699951  2986.000000   \n",
              "4703 2024-03-04  2981.000000  3024.800049  2975.050049  3011.600098   \n",
              "4704 2024-03-05  3011.699951  3011.699951  2973.000000  2998.300049   \n",
              "4705 2024-03-06  2989.449951  3019.000000  2957.000000  3005.949951   \n",
              "\n",
              "        Adj Close    Volume  \n",
              "0       99.178894  11731288  \n",
              "1       96.932709   9965116  \n",
              "2       96.768379  16794452  \n",
              "3       96.047035  13319768  \n",
              "4       98.768005  16809884  \n",
              "...           ...       ...  \n",
              "4701  2924.750000    192376  \n",
              "4702  2986.000000    544407  \n",
              "4703  3011.600098    139795  \n",
              "4704  2998.300049     70928  \n",
              "4705  3005.949951    110021  \n",
              "\n",
              "[4706 rows x 7 columns]"
            ]
          },
          "execution_count": 7,
          "metadata": {},
          "output_type": "execute_result"
        }
      ],
      "source": [
        "df =df.reset_index()\n",
        "df\n"
      ]
    },
    {
      "cell_type": "code",
      "execution_count": 8,
      "metadata": {
        "id": "ObZ1Zj4lLr7F"
      },
      "outputs": [],
      "source": [
        "# Add more features to improve accuracy and drop null value\n",
        "\n",
        "df['Tommorow']= df['Close'].shift(1)\n",
        "df.dropna(inplace=True)\n",
        "df['Target']=(df['Close']>df['Tommorow']).astype(int)"
      ]
    },
    {
      "cell_type": "code",
      "execution_count": 9,
      "metadata": {
        "colab": {
          "base_uri": "https://localhost:8080/",
          "height": 424
        },
        "id": "-jkbbeZBMBV7",
        "outputId": "d2bfc061-dfae-4ae6-a2c3-432d4c057820"
      },
      "outputs": [
        {
          "data": {
            "text/html": [
              "<div>\n",
              "<style scoped>\n",
              "    .dataframe tbody tr th:only-of-type {\n",
              "        vertical-align: middle;\n",
              "    }\n",
              "\n",
              "    .dataframe tbody tr th {\n",
              "        vertical-align: top;\n",
              "    }\n",
              "\n",
              "    .dataframe thead th {\n",
              "        text-align: right;\n",
              "    }\n",
              "</style>\n",
              "<table border=\"1\" class=\"dataframe\">\n",
              "  <thead>\n",
              "    <tr style=\"text-align: right;\">\n",
              "      <th></th>\n",
              "      <th>Date</th>\n",
              "      <th>Open</th>\n",
              "      <th>High</th>\n",
              "      <th>Low</th>\n",
              "      <th>Close</th>\n",
              "      <th>Adj Close</th>\n",
              "      <th>Volume</th>\n",
              "      <th>Tommorow</th>\n",
              "      <th>Target</th>\n",
              "    </tr>\n",
              "  </thead>\n",
              "  <tbody>\n",
              "    <tr>\n",
              "      <th>1</th>\n",
              "      <td>2005-01-04</td>\n",
              "      <td>133.750000</td>\n",
              "      <td>136.237503</td>\n",
              "      <td>132.375000</td>\n",
              "      <td>132.699997</td>\n",
              "      <td>96.932709</td>\n",
              "      <td>9965116</td>\n",
              "      <td>135.774994</td>\n",
              "      <td>0</td>\n",
              "    </tr>\n",
              "    <tr>\n",
              "      <th>2</th>\n",
              "      <td>2005-01-05</td>\n",
              "      <td>131.375000</td>\n",
              "      <td>133.500000</td>\n",
              "      <td>129.062500</td>\n",
              "      <td>132.475006</td>\n",
              "      <td>96.768379</td>\n",
              "      <td>16794452</td>\n",
              "      <td>132.699997</td>\n",
              "      <td>0</td>\n",
              "    </tr>\n",
              "    <tr>\n",
              "      <th>3</th>\n",
              "      <td>2005-01-06</td>\n",
              "      <td>131.250000</td>\n",
              "      <td>134.125000</td>\n",
              "      <td>130.649994</td>\n",
              "      <td>131.487503</td>\n",
              "      <td>96.047035</td>\n",
              "      <td>13319768</td>\n",
              "      <td>132.475006</td>\n",
              "      <td>0</td>\n",
              "    </tr>\n",
              "    <tr>\n",
              "      <th>4</th>\n",
              "      <td>2005-01-07</td>\n",
              "      <td>132.000000</td>\n",
              "      <td>136.875000</td>\n",
              "      <td>131.887497</td>\n",
              "      <td>135.212494</td>\n",
              "      <td>98.768005</td>\n",
              "      <td>16809884</td>\n",
              "      <td>131.487503</td>\n",
              "      <td>1</td>\n",
              "    </tr>\n",
              "    <tr>\n",
              "      <th>5</th>\n",
              "      <td>2005-01-10</td>\n",
              "      <td>136.949997</td>\n",
              "      <td>138.449997</td>\n",
              "      <td>132.562500</td>\n",
              "      <td>133.375000</td>\n",
              "      <td>97.425781</td>\n",
              "      <td>8666480</td>\n",
              "      <td>135.212494</td>\n",
              "      <td>0</td>\n",
              "    </tr>\n",
              "    <tr>\n",
              "      <th>...</th>\n",
              "      <td>...</td>\n",
              "      <td>...</td>\n",
              "      <td>...</td>\n",
              "      <td>...</td>\n",
              "      <td>...</td>\n",
              "      <td>...</td>\n",
              "      <td>...</td>\n",
              "      <td>...</td>\n",
              "      <td>...</td>\n",
              "    </tr>\n",
              "    <tr>\n",
              "      <th>4701</th>\n",
              "      <td>2024-02-29</td>\n",
              "      <td>2931.050049</td>\n",
              "      <td>2958.000000</td>\n",
              "      <td>2909.550049</td>\n",
              "      <td>2924.750000</td>\n",
              "      <td>2924.750000</td>\n",
              "      <td>192376</td>\n",
              "      <td>2909.000000</td>\n",
              "      <td>1</td>\n",
              "    </tr>\n",
              "    <tr>\n",
              "      <th>4702</th>\n",
              "      <td>2024-03-01</td>\n",
              "      <td>2916.699951</td>\n",
              "      <td>2999.000000</td>\n",
              "      <td>2916.699951</td>\n",
              "      <td>2986.000000</td>\n",
              "      <td>2986.000000</td>\n",
              "      <td>544407</td>\n",
              "      <td>2924.750000</td>\n",
              "      <td>1</td>\n",
              "    </tr>\n",
              "    <tr>\n",
              "      <th>4703</th>\n",
              "      <td>2024-03-04</td>\n",
              "      <td>2981.000000</td>\n",
              "      <td>3024.800049</td>\n",
              "      <td>2975.050049</td>\n",
              "      <td>3011.600098</td>\n",
              "      <td>3011.600098</td>\n",
              "      <td>139795</td>\n",
              "      <td>2986.000000</td>\n",
              "      <td>1</td>\n",
              "    </tr>\n",
              "    <tr>\n",
              "      <th>4704</th>\n",
              "      <td>2024-03-05</td>\n",
              "      <td>3011.699951</td>\n",
              "      <td>3011.699951</td>\n",
              "      <td>2973.000000</td>\n",
              "      <td>2998.300049</td>\n",
              "      <td>2998.300049</td>\n",
              "      <td>70928</td>\n",
              "      <td>3011.600098</td>\n",
              "      <td>0</td>\n",
              "    </tr>\n",
              "    <tr>\n",
              "      <th>4705</th>\n",
              "      <td>2024-03-06</td>\n",
              "      <td>2989.449951</td>\n",
              "      <td>3019.000000</td>\n",
              "      <td>2957.000000</td>\n",
              "      <td>3005.949951</td>\n",
              "      <td>3005.949951</td>\n",
              "      <td>110021</td>\n",
              "      <td>2998.300049</td>\n",
              "      <td>1</td>\n",
              "    </tr>\n",
              "  </tbody>\n",
              "</table>\n",
              "<p>4705 rows × 9 columns</p>\n",
              "</div>"
            ],
            "text/plain": [
              "           Date         Open         High          Low        Close  \\\n",
              "1    2005-01-04   133.750000   136.237503   132.375000   132.699997   \n",
              "2    2005-01-05   131.375000   133.500000   129.062500   132.475006   \n",
              "3    2005-01-06   131.250000   134.125000   130.649994   131.487503   \n",
              "4    2005-01-07   132.000000   136.875000   131.887497   135.212494   \n",
              "5    2005-01-10   136.949997   138.449997   132.562500   133.375000   \n",
              "...         ...          ...          ...          ...          ...   \n",
              "4701 2024-02-29  2931.050049  2958.000000  2909.550049  2924.750000   \n",
              "4702 2024-03-01  2916.699951  2999.000000  2916.699951  2986.000000   \n",
              "4703 2024-03-04  2981.000000  3024.800049  2975.050049  3011.600098   \n",
              "4704 2024-03-05  3011.699951  3011.699951  2973.000000  2998.300049   \n",
              "4705 2024-03-06  2989.449951  3019.000000  2957.000000  3005.949951   \n",
              "\n",
              "        Adj Close    Volume     Tommorow  Target  \n",
              "1       96.932709   9965116   135.774994       0  \n",
              "2       96.768379  16794452   132.699997       0  \n",
              "3       96.047035  13319768   132.475006       0  \n",
              "4       98.768005  16809884   131.487503       1  \n",
              "5       97.425781   8666480   135.212494       0  \n",
              "...           ...       ...          ...     ...  \n",
              "4701  2924.750000    192376  2909.000000       1  \n",
              "4702  2986.000000    544407  2924.750000       1  \n",
              "4703  3011.600098    139795  2986.000000       1  \n",
              "4704  2998.300049     70928  3011.600098       0  \n",
              "4705  3005.949951    110021  2998.300049       1  \n",
              "\n",
              "[4705 rows x 9 columns]"
            ]
          },
          "execution_count": 9,
          "metadata": {},
          "output_type": "execute_result"
        }
      ],
      "source": [
        "df"
      ]
    },
    {
      "cell_type": "markdown",
      "metadata": {
        "id": "hP5PraX5pdxI"
      },
      "source": [
        "#Data visualization"
      ]
    },
    {
      "cell_type": "code",
      "execution_count": 10,
      "metadata": {
        "colab": {
          "base_uri": "https://localhost:8080/",
          "height": 564
        },
        "id": "Qwn6rrv4Vm8H",
        "outputId": "5ae9f0b8-b0c0-4b69-9cbd-d7f6bb5e0a66"
      },
      "outputs": [
        {
          "data": {
            "image/png": "[encoded data removed]",
            "text/plain": [
              "<Figure size 1200x600 with 1 Axes>"
            ]
          },
          "metadata": {},
          "output_type": "display_data"
        }
      ],
      "source": [
        "import matplotlib.pyplot as plt\n",
        "\n",
        "# Plotting the closing prices using numerical index\n",
        "plt.figure(figsize=(12,6))\n",
        "plt.plot(df['Date'], df['Close'], label='Close Price', color='blue')\n",
        "plt.title('Stock Close Price Over Time')\n",
        "plt.xlabel('Index')\n",
        "plt.ylabel('Close Price')\n",
        "plt.legend()\n",
        "plt.show()\n"
      ]
    },
    {
      "cell_type": "markdown",
      "metadata": {
        "id": "7vQOMyBkqNQR"
      },
      "source": [
        "# Data Analysis"
      ]
    },
    {
      "cell_type": "code",
      "execution_count": 11,
      "metadata": {
        "colab": {
          "base_uri": "https://localhost:8080/",
          "height": 300
        },
        "id": "v5s7EsWFqEDw",
        "outputId": "c54527ff-804f-4185-ada4-21675993c2c6"
      },
      "outputs": [
        {
          "data": {
            "text/html": [
              "<div>\n",
              "<style scoped>\n",
              "    .dataframe tbody tr th:only-of-type {\n",
              "        vertical-align: middle;\n",
              "    }\n",
              "\n",
              "    .dataframe tbody tr th {\n",
              "        vertical-align: top;\n",
              "    }\n",
              "\n",
              "    .dataframe thead th {\n",
              "        text-align: right;\n",
              "    }\n",
              "</style>\n",
              "<table border=\"1\" class=\"dataframe\">\n",
              "  <thead>\n",
              "    <tr style=\"text-align: right;\">\n",
              "      <th></th>\n",
              "      <th>Date</th>\n",
              "      <th>Open</th>\n",
              "      <th>High</th>\n",
              "      <th>Low</th>\n",
              "      <th>Close</th>\n",
              "      <th>Adj Close</th>\n",
              "      <th>Volume</th>\n",
              "      <th>Tommorow</th>\n",
              "      <th>Target</th>\n",
              "    </tr>\n",
              "  </thead>\n",
              "  <tbody>\n",
              "    <tr>\n",
              "      <th>count</th>\n",
              "      <td>4705</td>\n",
              "      <td>4705.000000</td>\n",
              "      <td>4705.000000</td>\n",
              "      <td>4705.000000</td>\n",
              "      <td>4705.000000</td>\n",
              "      <td>4705.000000</td>\n",
              "      <td>4.705000e+03</td>\n",
              "      <td>4705.000000</td>\n",
              "      <td>4705.000000</td>\n",
              "    </tr>\n",
              "    <tr>\n",
              "      <th>mean</th>\n",
              "      <td>2014-07-24 07:21:38.448459264</td>\n",
              "      <td>914.364816</td>\n",
              "      <td>924.769085</td>\n",
              "      <td>903.288967</td>\n",
              "      <td>913.585056</td>\n",
              "      <td>878.645973</td>\n",
              "      <td>2.950745e+06</td>\n",
              "      <td>912.975029</td>\n",
              "      <td>0.515197</td>\n",
              "    </tr>\n",
              "    <tr>\n",
              "      <th>min</th>\n",
              "      <td>2005-01-04 00:00:00</td>\n",
              "      <td>126.250000</td>\n",
              "      <td>127.587502</td>\n",
              "      <td>124.550003</td>\n",
              "      <td>125.349998</td>\n",
              "      <td>91.563797</td>\n",
              "      <td>4.087400e+04</td>\n",
              "      <td>125.349998</td>\n",
              "      <td>0.000000</td>\n",
              "    </tr>\n",
              "    <tr>\n",
              "      <th>25%</th>\n",
              "      <td>2009-10-16 00:00:00</td>\n",
              "      <td>422.700012</td>\n",
              "      <td>427.500000</td>\n",
              "      <td>417.250000</td>\n",
              "      <td>421.837494</td>\n",
              "      <td>376.001129</td>\n",
              "      <td>4.180400e+05</td>\n",
              "      <td>421.774994</td>\n",
              "      <td>0.000000</td>\n",
              "    </tr>\n",
              "    <tr>\n",
              "      <th>50%</th>\n",
              "      <td>2014-07-17 00:00:00</td>\n",
              "      <td>514.500000</td>\n",
              "      <td>520.875000</td>\n",
              "      <td>507.750000</td>\n",
              "      <td>514.049988</td>\n",
              "      <td>466.146942</td>\n",
              "      <td>8.613200e+05</td>\n",
              "      <td>513.875000</td>\n",
              "      <td>1.000000</td>\n",
              "    </tr>\n",
              "    <tr>\n",
              "      <th>75%</th>\n",
              "      <td>2019-05-09 00:00:00</td>\n",
              "      <td>1253.000000</td>\n",
              "      <td>1271.000000</td>\n",
              "      <td>1235.500000</td>\n",
              "      <td>1252.699951</td>\n",
              "      <td>1244.542114</td>\n",
              "      <td>2.512454e+06</td>\n",
              "      <td>1252.000000</td>\n",
              "      <td>1.000000</td>\n",
              "    </tr>\n",
              "    <tr>\n",
              "      <th>max</th>\n",
              "      <td>2024-03-06 00:00:00</td>\n",
              "      <td>3011.699951</td>\n",
              "      <td>3024.800049</td>\n",
              "      <td>2975.050049</td>\n",
              "      <td>3011.600098</td>\n",
              "      <td>3011.600098</td>\n",
              "      <td>7.946226e+08</td>\n",
              "      <td>3011.600098</td>\n",
              "      <td>1.000000</td>\n",
              "    </tr>\n",
              "    <tr>\n",
              "      <th>std</th>\n",
              "      <td>NaN</td>\n",
              "      <td>769.425303</td>\n",
              "      <td>776.450851</td>\n",
              "      <td>761.630879</td>\n",
              "      <td>768.756085</td>\n",
              "      <td>783.927896</td>\n",
              "      <td>2.051122e+07</td>\n",
              "      <td>768.233989</td>\n",
              "      <td>0.499822</td>\n",
              "    </tr>\n",
              "  </tbody>\n",
              "</table>\n",
              "</div>"
            ],
            "text/plain": [
              "                                Date         Open         High          Low  \\\n",
              "count                           4705  4705.000000  4705.000000  4705.000000   \n",
              "mean   2014-07-24 07:21:38.448459264   914.364816   924.769085   903.288967   \n",
              "min              2005-01-04 00:00:00   126.250000   127.587502   124.550003   \n",
              "25%              2009-10-16 00:00:00   422.700012   427.500000   417.250000   \n",
              "50%              2014-07-17 00:00:00   514.500000   520.875000   507.750000   \n",
              "75%              2019-05-09 00:00:00  1253.000000  1271.000000  1235.500000   \n",
              "max              2024-03-06 00:00:00  3011.699951  3024.800049  2975.050049   \n",
              "std                              NaN   769.425303   776.450851   761.630879   \n",
              "\n",
              "             Close    Adj Close        Volume     Tommorow       Target  \n",
              "count  4705.000000  4705.000000  4.705000e+03  4705.000000  4705.000000  \n",
              "mean    913.585056   878.645973  2.950745e+06   912.975029     0.515197  \n",
              "min     125.349998    91.563797  4.087400e+04   125.349998     0.000000  \n",
              "25%     421.837494   376.001129  4.180400e+05   421.774994     0.000000  \n",
              "50%     514.049988   466.146942  8.613200e+05   513.875000     1.000000  \n",
              "75%    1252.699951  1244.542114  2.512454e+06  1252.000000     1.000000  \n",
              "max    3011.600098  3011.600098  7.946226e+08  3011.600098     1.000000  \n",
              "std     768.756085   783.927896  2.051122e+07   768.233989     0.499822  "
            ]
          },
          "execution_count": 11,
          "metadata": {},
          "output_type": "execute_result"
        }
      ],
      "source": [
        "df.describe()"
      ]
    },
    {
      "cell_type": "code",
      "execution_count": 12,
      "metadata": {
        "colab": {
          "base_uri": "https://localhost:8080/"
        },
        "id": "rWvelJsFqHly",
        "outputId": "883ad9e0-916e-4774-b558-142940f529c8"
      },
      "outputs": [
        {
          "name": "stdout",
          "output_type": "stream",
          "text": [
            "<class 'pandas.core.frame.DataFrame'>\n",
            "Index: 4705 entries, 1 to 4705\n",
            "Data columns (total 9 columns):\n",
            " #   Column     Non-Null Count  Dtype         \n",
            "---  ------     --------------  -----         \n",
            " 0   Date       4705 non-null   datetime64[ns]\n",
            " 1   Open       4705 non-null   float64       \n",
            " 2   High       4705 non-null   float64       \n",
            " 3   Low        4705 non-null   float64       \n",
            " 4   Close      4705 non-null   float64       \n",
            " 5   Adj Close  4705 non-null   float64       \n",
            " 6   Volume     4705 non-null   int64         \n",
            " 7   Tommorow   4705 non-null   float64       \n",
            " 8   Target     4705 non-null   int64         \n",
            "dtypes: datetime64[ns](1), float64(6), int64(2)\n",
            "memory usage: 367.6 KB\n"
          ]
        }
      ],
      "source": [
        "df.info()"
      ]
    },
    {
      "cell_type": "code",
      "execution_count": 13,
      "metadata": {
        "colab": {
          "base_uri": "https://localhost:8080/",
          "height": 754
        },
        "id": "n2sUplq4VrlP",
        "outputId": "f0cfe3d8-0975-485a-fac9-712ea25ae108"
      },
      "outputs": [
        {
          "data": {
            "image/png": "[encoded data removed]",
            "text/plain": [
              "<Figure size 1000x800 with 2 Axes>"
            ]
          },
          "metadata": {},
          "output_type": "display_data"
        }
      ],
      "source": [
        "import seaborn as sns\n",
        "\n",
        "# Compute the correlation matrix\n",
        "correlation_matrix = df.corr()\n",
        "\n",
        "# Plot the correlation matrix as a heatmap\n",
        "plt.figure(figsize=(10, 8))\n",
        "sns.heatmap(correlation_matrix, annot=True, cmap='coolwarm', fmt=\".2f\")\n",
        "plt.title('Correlation Plot of Stock Data Features')\n",
        "plt.show()\n"
      ]
    },
    {
      "cell_type": "code",
      "execution_count": 14,
      "metadata": {
        "id": "djY40LmGXgM4"
      },
      "outputs": [],
      "source": [
        "# Drop the 'Date' column from the DataFrame\n",
        "df.drop(df.columns[[0,5]] , axis=1 , inplace=True)\n"
      ]
    },
    {
      "cell_type": "code",
      "execution_count": 15,
      "metadata": {
        "colab": {
          "base_uri": "https://localhost:8080/",
          "height": 424
        },
        "id": "zRV88aGEl8dP",
        "outputId": "00dbaddf-1a0a-407d-e58f-58054cbd4c44"
      },
      "outputs": [
        {
          "data": {
            "text/html": [
              "<div>\n",
              "<style scoped>\n",
              "    .dataframe tbody tr th:only-of-type {\n",
              "        vertical-align: middle;\n",
              "    }\n",
              "\n",
              "    .dataframe tbody tr th {\n",
              "        vertical-align: top;\n",
              "    }\n",
              "\n",
              "    .dataframe thead th {\n",
              "        text-align: right;\n",
              "    }\n",
              "</style>\n",
              "<table border=\"1\" class=\"dataframe\">\n",
              "  <thead>\n",
              "    <tr style=\"text-align: right;\">\n",
              "      <th></th>\n",
              "      <th>Open</th>\n",
              "      <th>High</th>\n",
              "      <th>Low</th>\n",
              "      <th>Close</th>\n",
              "      <th>Volume</th>\n",
              "      <th>Tommorow</th>\n",
              "      <th>Target</th>\n",
              "    </tr>\n",
              "  </thead>\n",
              "  <tbody>\n",
              "    <tr>\n",
              "      <th>1</th>\n",
              "      <td>133.750000</td>\n",
              "      <td>136.237503</td>\n",
              "      <td>132.375000</td>\n",
              "      <td>132.699997</td>\n",
              "      <td>9965116</td>\n",
              "      <td>135.774994</td>\n",
              "      <td>0</td>\n",
              "    </tr>\n",
              "    <tr>\n",
              "      <th>2</th>\n",
              "      <td>131.375000</td>\n",
              "      <td>133.500000</td>\n",
              "      <td>129.062500</td>\n",
              "      <td>132.475006</td>\n",
              "      <td>16794452</td>\n",
              "      <td>132.699997</td>\n",
              "      <td>0</td>\n",
              "    </tr>\n",
              "    <tr>\n",
              "      <th>3</th>\n",
              "      <td>131.250000</td>\n",
              "      <td>134.125000</td>\n",
              "      <td>130.649994</td>\n",
              "      <td>131.487503</td>\n",
              "      <td>13319768</td>\n",
              "      <td>132.475006</td>\n",
              "      <td>0</td>\n",
              "    </tr>\n",
              "    <tr>\n",
              "      <th>4</th>\n",
              "      <td>132.000000</td>\n",
              "      <td>136.875000</td>\n",
              "      <td>131.887497</td>\n",
              "      <td>135.212494</td>\n",
              "      <td>16809884</td>\n",
              "      <td>131.487503</td>\n",
              "      <td>1</td>\n",
              "    </tr>\n",
              "    <tr>\n",
              "      <th>5</th>\n",
              "      <td>136.949997</td>\n",
              "      <td>138.449997</td>\n",
              "      <td>132.562500</td>\n",
              "      <td>133.375000</td>\n",
              "      <td>8666480</td>\n",
              "      <td>135.212494</td>\n",
              "      <td>0</td>\n",
              "    </tr>\n",
              "    <tr>\n",
              "      <th>...</th>\n",
              "      <td>...</td>\n",
              "      <td>...</td>\n",
              "      <td>...</td>\n",
              "      <td>...</td>\n",
              "      <td>...</td>\n",
              "      <td>...</td>\n",
              "      <td>...</td>\n",
              "    </tr>\n",
              "    <tr>\n",
              "      <th>4701</th>\n",
              "      <td>2931.050049</td>\n",
              "      <td>2958.000000</td>\n",
              "      <td>2909.550049</td>\n",
              "      <td>2924.750000</td>\n",
              "      <td>192376</td>\n",
              "      <td>2909.000000</td>\n",
              "      <td>1</td>\n",
              "    </tr>\n",
              "    <tr>\n",
              "      <th>4702</th>\n",
              "      <td>2916.699951</td>\n",
              "      <td>2999.000000</td>\n",
              "      <td>2916.699951</td>\n",
              "      <td>2986.000000</td>\n",
              "      <td>544407</td>\n",
              "      <td>2924.750000</td>\n",
              "      <td>1</td>\n",
              "    </tr>\n",
              "    <tr>\n",
              "      <th>4703</th>\n",
              "      <td>2981.000000</td>\n",
              "      <td>3024.800049</td>\n",
              "      <td>2975.050049</td>\n",
              "      <td>3011.600098</td>\n",
              "      <td>139795</td>\n",
              "      <td>2986.000000</td>\n",
              "      <td>1</td>\n",
              "    </tr>\n",
              "    <tr>\n",
              "      <th>4704</th>\n",
              "      <td>3011.699951</td>\n",
              "      <td>3011.699951</td>\n",
              "      <td>2973.000000</td>\n",
              "      <td>2998.300049</td>\n",
              "      <td>70928</td>\n",
              "      <td>3011.600098</td>\n",
              "      <td>0</td>\n",
              "    </tr>\n",
              "    <tr>\n",
              "      <th>4705</th>\n",
              "      <td>2989.449951</td>\n",
              "      <td>3019.000000</td>\n",
              "      <td>2957.000000</td>\n",
              "      <td>3005.949951</td>\n",
              "      <td>110021</td>\n",
              "      <td>2998.300049</td>\n",
              "      <td>1</td>\n",
              "    </tr>\n",
              "  </tbody>\n",
              "</table>\n",
              "<p>4705 rows × 7 columns</p>\n",
              "</div>"
            ],
            "text/plain": [
              "             Open         High          Low        Close    Volume  \\\n",
              "1      133.750000   136.237503   132.375000   132.699997   9965116   \n",
              "2      131.375000   133.500000   129.062500   132.475006  16794452   \n",
              "3      131.250000   134.125000   130.649994   131.487503  13319768   \n",
              "4      132.000000   136.875000   131.887497   135.212494  16809884   \n",
              "5      136.949997   138.449997   132.562500   133.375000   8666480   \n",
              "...           ...          ...          ...          ...       ...   \n",
              "4701  2931.050049  2958.000000  2909.550049  2924.750000    192376   \n",
              "4702  2916.699951  2999.000000  2916.699951  2986.000000    544407   \n",
              "4703  2981.000000  3024.800049  2975.050049  3011.600098    139795   \n",
              "4704  3011.699951  3011.699951  2973.000000  2998.300049     70928   \n",
              "4705  2989.449951  3019.000000  2957.000000  3005.949951    110021   \n",
              "\n",
              "         Tommorow  Target  \n",
              "1      135.774994       0  \n",
              "2      132.699997       0  \n",
              "3      132.475006       0  \n",
              "4      131.487503       1  \n",
              "5      135.212494       0  \n",
              "...           ...     ...  \n",
              "4701  2909.000000       1  \n",
              "4702  2924.750000       1  \n",
              "4703  2986.000000       1  \n",
              "4704  3011.600098       0  \n",
              "4705  2998.300049       1  \n",
              "\n",
              "[4705 rows x 7 columns]"
            ]
          },
          "execution_count": 15,
          "metadata": {},
          "output_type": "execute_result"
        }
      ],
      "source": [
        "df"
      ]
    },
    {
      "cell_type": "code",
      "execution_count": 16,
      "metadata": {
        "id": "p9hVfx90Vwe_"
      },
      "outputs": [],
      "source": [
        "\n",
        "# Split the data into features (X) and target (y)\n",
        "x = df.drop(columns=['Target'])  # Features are all columns except 'Market_High_Indicator'\n",
        "y = df['Target']  # Target column is 'Market_High_Indicator'\n",
        "\n",
        "# Now, you can use X and y for further processing, such as training and testing your model"
      ]
    },
    {
      "cell_type": "markdown",
      "metadata": {
        "id": "ax-bcUmYqT9B"
      },
      "source": [
        "#Model training"
      ]
    },
    {
      "cell_type": "code",
      "execution_count": 17,
      "metadata": {
        "id": "pUZOu4Y6V7y_"
      },
      "outputs": [],
      "source": [
        "from sklearn.model_selection import train_test_split\n",
        "\n",
        "# Split the data into training and testing sets (e.g., 80% training, 20% testing)\n",
        "X_train, X_test, y_train, y_test = train_test_split(x, y, test_size=0.2, random_state=42)\n",
        "\n",
        "# Now, you can use X_train, X_test, y_train, and y_test for training and evaluating your model"
      ]
    },
    {
      "cell_type": "code",
      "execution_count": 18,
      "metadata": {
        "id": "XT6W75p6UAjD"
      },
      "outputs": [],
      "source": [
        "from sklearn.preprocessing import MinMaxScaler\n",
        "scale = MinMaxScaler()\n",
        "X_train_scale = scale.fit_transform(X_train)\n",
        "\n"
      ]
    },
    {
      "cell_type": "code",
      "execution_count": 19,
      "metadata": {
        "colab": {
          "base_uri": "https://localhost:8080/"
        },
        "id": "tvIZh_YzWFde",
        "outputId": "979feecc-f646-42b8-ec6c-3c3aeddbacb2"
      },
      "outputs": [
        {
          "data": {
            "text/plain": [
              "(3764, 6)"
            ]
          },
          "execution_count": 19,
          "metadata": {},
          "output_type": "execute_result"
        }
      ],
      "source": [
        "X_train.shape"
      ]
    },
    {
      "cell_type": "code",
      "execution_count": 20,
      "metadata": {
        "id": "y1VTJiMwYEsg"
      },
      "outputs": [
        {
          "name": "stderr",
          "output_type": "stream",
          "text": [
            "2024-03-07 11:08:45.540612: E external/local_xla/xla/stream_executor/cuda/cuda_dnn.cc:9261] Unable to register cuDNN factory: Attempting to register factory for plugin cuDNN when one has already been registered\n",
            "2024-03-07 11:08:45.540737: E external/local_xla/xla/stream_executor/cuda/cuda_fft.cc:607] Unable to register cuFFT factory: Attempting to register factory for plugin cuFFT when one has already been registered\n",
            "2024-03-07 11:08:45.973931: E external/local_xla/xla/stream_executor/cuda/cuda_blas.cc:1515] Unable to register cuBLAS factory: Attempting to register factory for plugin cuBLAS when one has already been registered\n",
            "2024-03-07 11:08:46.845362: I tensorflow/core/platform/cpu_feature_guard.cc:182] This TensorFlow binary is optimized to use available CPU instructions in performance-critical operations.\n",
            "To enable the following instructions: AVX2 FMA, in other operations, rebuild TensorFlow with the appropriate compiler flags.\n",
            "2024-03-07 11:08:52.204952: W tensorflow/compiler/tf2tensorrt/utils/py_utils.cc:38] TF-TRT Warning: Could not find TensorRT\n"
          ]
        }
      ],
      "source": [
        "from keras.models import Sequential\n",
        "from keras.layers import Dense\n",
        "\n",
        "# Define the model architecture\n",
        "model = Sequential([\n",
        "    Dense(64, activation='relu', input_dim=6),\n",
        "    Dense(64, activation='relu'),\n",
        "    Dense(1, activation='sigmoid')\n",
        "])\n",
        "\n"
      ]
    },
    {
      "cell_type": "code",
      "execution_count": 21,
      "metadata": {
        "colab": {
          "base_uri": "https://localhost:8080/"
        },
        "id": "A3NnlbVtV0jB",
        "outputId": "f4424b94-7f19-413a-ffad-314b47462f27"
      },
      "outputs": [
        {
          "name": "stdout",
          "output_type": "stream",
          "text": [
            "Model: \"sequential\"\n",
            "_________________________________________________________________\n",
            " Layer (type)                Output Shape              Param #   \n",
            "=================================================================\n",
            " dense (Dense)               (None, 64)                448       \n",
            "                                                                 \n",
            " dense_1 (Dense)             (None, 64)                4160      \n",
            "                                                                 \n",
            " dense_2 (Dense)             (None, 1)                 65        \n",
            "                                                                 \n",
            "=================================================================\n",
            "Total params: 4673 (18.25 KB)\n",
            "Trainable params: 4673 (18.25 KB)\n",
            "Non-trainable params: 0 (0.00 Byte)\n",
            "_________________________________________________________________\n"
          ]
        }
      ],
      "source": [
        "model.summary()"
      ]
    },
    {
      "cell_type": "code",
      "execution_count": 22,
      "metadata": {
        "colab": {
          "base_uri": "https://localhost:8080/"
        },
        "id": "B-1PtL4yVyOQ",
        "outputId": "1dec18ee-6fcf-40d7-8493-6c14c253d15a"
      },
      "outputs": [
        {
          "name": "stdout",
          "output_type": "stream",
          "text": [
            "Epoch 1/10\n",
            "95/95 [==============================] - 1s 4ms/step - loss: 38489.6250 - accuracy: 0.5168 - val_loss: 61843.4883 - val_accuracy: 0.5126\n",
            "Epoch 2/10\n",
            "95/95 [==============================] - 0s 1ms/step - loss: 27235.3750 - accuracy: 0.5271 - val_loss: 79848.5391 - val_accuracy: 0.4874\n",
            "Epoch 3/10\n",
            "95/95 [==============================] - 0s 2ms/step - loss: 65092.1289 - accuracy: 0.4899 - val_loss: 7233.1646 - val_accuracy: 0.4861\n",
            "Epoch 4/10\n",
            "95/95 [==============================] - 0s 1ms/step - loss: 29248.0645 - accuracy: 0.4975 - val_loss: 1362.4708 - val_accuracy: 0.5046\n",
            "Epoch 5/10\n",
            "95/95 [==============================] - 0s 2ms/step - loss: 1969.3268 - accuracy: 0.5178 - val_loss: 486.2096 - val_accuracy: 0.5126\n",
            "Epoch 6/10\n",
            "95/95 [==============================] - 0s 1ms/step - loss: 63632.7500 - accuracy: 0.4968 - val_loss: 63324.7266 - val_accuracy: 0.4874\n",
            "Epoch 7/10\n",
            "95/95 [==============================] - 0s 2ms/step - loss: 34242.0977 - accuracy: 0.4952 - val_loss: 2677.1162 - val_accuracy: 0.5060\n",
            "Epoch 8/10\n",
            "95/95 [==============================] - 0s 2ms/step - loss: 29599.2207 - accuracy: 0.5078 - val_loss: 2599.2773 - val_accuracy: 0.5126\n",
            "Epoch 9/10\n",
            "95/95 [==============================] - 0s 1ms/step - loss: 17272.4766 - accuracy: 0.5078 - val_loss: 5166.7583 - val_accuracy: 0.5020\n",
            "Epoch 10/10\n",
            "95/95 [==============================] - 0s 1ms/step - loss: 28583.2266 - accuracy: 0.4919 - val_loss: 15536.2393 - val_accuracy: 0.5126\n"
          ]
        },
        {
          "data": {
            "text/plain": [
              "<keras.src.callbacks.History at 0x7fb74cf9f220>"
            ]
          },
          "execution_count": 22,
          "metadata": {},
          "output_type": "execute_result"
        }
      ],
      "source": [
        "# Compile the model\n",
        "model.compile(optimizer='adam', loss='binary_crossentropy', metrics=['accuracy'])\n",
        "\n",
        "# Train the model\n",
        "model.fit(X_train, y_train, epochs=10, batch_size=32, validation_split=0.2)"
      ]
    },
    {
      "cell_type": "markdown",
      "metadata": {
        "id": "8TP4iaLRqbfD"
      },
      "source": [
        "#Predict next day high"
      ]
    },
    {
      "cell_type": "code",
      "execution_count": 23,
      "metadata": {
        "id": "8bPA2bMHfIBe"
      },
      "outputs": [],
      "source": [
        "from sklearn.preprocessing import MinMaxScaler\n",
        "import numpy as np\n",
        "\n",
        "# Your original array\n",
        "last_row_features = df.drop(columns=['Target']).iloc[-1]\n",
        "last_row_features_array = np.array(last_row_features)\n",
        "\n",
        "# Reshape the array to a 2D array (required by MinMaxScaler)\n",
        "last_row_features_array = last_row_features_array.reshape(-1, 1)\n",
        "\n",
        "# Create the MinMaxScaler\n",
        "scaler = MinMaxScaler()\n",
        "\n",
        "# Fit and transform the data\n",
        "features_scaled_array = scaler.fit_transform(last_row_features_array)\n",
        "features_scaled_array_reshaped = features_scaled_array.reshape(1, -1)"
      ]
    },
    {
      "cell_type": "code",
      "execution_count": 24,
      "metadata": {
        "colab": {
          "base_uri": "https://localhost:8080/"
        },
        "id": "RyrolItiiDum",
        "outputId": "8f144b3d-6dfa-43ca-9a43-7e9fcb69e251"
      },
      "outputs": [
        {
          "name": "stdout",
          "output_type": "stream",
          "text": [
            "1/1 [==============================] - 0s 90ms/step\n"
          ]
        },
        {
          "name": "stdout",
          "output_type": "stream",
          "text": [
            "Predicted Market High Indicator for the Next Day: 1\n"
          ]
        }
      ],
      "source": [
        "# Make predictions\n",
        "next_day_prediction = model.predict(features_scaled_array_reshaped)\n",
        "\n",
        "# Convert the prediction to binary (0 or 1)\n",
        "next_day_prediction_binary = 1 if next_day_prediction > 0.5 else 0\n",
        "\n",
        "print(\"Predicted Market High Indicator for the Next Day:\", next_day_prediction_binary)\n"
      ]
    },
    {
      "cell_type": "code",
      "execution_count": null,
      "metadata": {},
      "outputs": [],
      "source": [
        "import joblib\n",
        "\n"
      ]
    },
    {
      "cell_type": "code",
      "execution_count": 25,
      "metadata": {
        "id": "fWvsrLwxWLJW"
      },
      "outputs": [],
      "source": [
        "# from sklearn.linear_model import LogisticRegression\n",
        "\n",
        "# # Initialize the Logistic Regression model\n",
        "# model = LogisticRegression()\n",
        "\n",
        "# # Train the model on the training data\n",
        "# model.fit(X_train, y_train)\n",
        "\n",
        "# # Once trained, you can use the model to make predictions on the test data\n",
        "# y_pred = model.predict(X_test)\n",
        "\n"
      ]
    },
    {
      "cell_type": "code",
      "execution_count": 26,
      "metadata": {
        "id": "V0giVFT8WNZA"
      },
      "outputs": [],
      "source": [
        "# from sklearn.metrics import accuracy_score\n",
        "\n",
        "# # Calculate accuracy score\n",
        "# accuracy = accuracy_score(y_test, y_pred)\n",
        "# print(\"Accuracy:\", accuracy)\n"
      ]
    },
    {
      "cell_type": "code",
      "execution_count": 27,
      "metadata": {
        "id": "cv3mTsvJWmR3"
      },
      "outputs": [],
      "source": [
        "# # Extract features from the last row of your dataset\n",
        "# last_row_features = df.drop(columns=['Market_High_Indicator']).iloc[-1]\n",
        "\n",
        "# # Reshape the features array as scikit-learn expects a 2D array\n",
        "# last_row_features = last_row_features.values.reshape(1, -1)\n",
        "\n",
        "# # Predict the next day's market high indicator\n",
        "# next_day_prediction = model.predict(last_row_features)\n",
        "\n",
        "# print(\"Predicted Market High Indicator for the Next Day:\", next_day_prediction[0])\n"
      ]
    },
    {
      "cell_type": "code",
      "execution_count": 28,
      "metadata": {
        "id": "1Ho6ejZhXevW"
      },
      "outputs": [],
      "source": [
        "# # Predict the next day's market high indicator\n",
        "# last_row_features = df.drop(columns=['Market_High_Indicator']).iloc[-1]\n",
        "# last_row_features = last_row_features.values.reshape(1, -1)\n",
        "# next_day_prediction = model.predict(last_row_features)\n",
        "\n",
        "# # Convert the prediction to binary (0 or 1)\n",
        "# next_day_prediction_binary = 1 if next_day_prediction > 0.5 else 0\n",
        "\n",
        "# print(\"Predicted Market High Indicator for the Next Day:\", next_day_prediction_binary)\n"
      ]
    },
    {
      "cell_type": "code",
      "execution_count": null,
      "metadata": {
        "id": "1tA8pYAtqhVN"
      },
      "outputs": [],
      "source": []
    }
  ],
  "metadata": {
    "colab": {
      "include_colab_link": true,
      "provenance": []
    },
    "kernelspec": {
      "display_name": "Python 3",
      "name": "python3"
    },
    "language_info": {
      "codemirror_mode": {
        "name": "ipython",
        "version": 3
      },
      "file_extension": ".py",
      "mimetype": "text/x-python",
      "name": "python",
      "nbconvert_exporter": "python",
      "pygments_lexer": "ipython3",
      "version": "3.10.13"
    }
  },
  "nbformat": 4,
  "nbformat_minor": 0
}
