{
  "cells": [
    {
      "cell_type": "markdown",
      "metadata": {
        "colab_type": "text",
        "id": "view-in-github"
      },
      "source": [
        "<a href=\"https://colab.research.google.com/github/vatsbalar22/Stock-prediction-ML-DL-MLOps-Flask/blob/main/colab_model.ipynb\" target=\"_parent\"><img src=\"https://colab.research.google.com/assets/colab-badge.svg\" alt=\"Open In Colab\"/></a>"
      ]
    },
    {
      "cell_type": "markdown",
      "metadata": {
        "id": "jKp-1FswpOTs"
      },
      "source": [
        "# Model train with Deep Learnig"
      ]
    },
    {
      "cell_type": "markdown",
      "metadata": {
        "id": "bYfWzAsFpWwp"
      },
      "source": [
        "# Data extract through API"
      ]
    },
    {
      "cell_type": "code",
      "execution_count": 2,
      "metadata": {
        "id": "5OMbqM-1VG_s"
      },
      "outputs": [],
      "source": [
        "# from alpha_vantage.timeseries import TimeSeries\n",
        "# api_key = 'RDW63LUED9U3S55M'\n",
        "# symbol = 'RELIANCE.BSE'\n",
        "\n",
        "# def get_stock_data(symbol, api_key):\n",
        "#     ts = TimeSeries(key=api_key, output_format='pandas')\n",
        "#     data, meta_data = ts.get_daily(symbol=symbol, outputsize='full')\n",
        "#     return data\n",
        "# def prepare_data(data):\n",
        "#     data = data[['1. open', '2. high', '3. low', '4. close', '5. volume']]\n",
        "#     data.columns = ['Open', 'High', 'Low', 'Close', 'Volume']\n",
        "#     return data\n",
        "\n",
        "# data = get_stock_data(symbol,api_key)\n",
        "# df = prepare_data(data)\n",
        "\n"
      ]
    },
    {
      "cell_type": "code",
      "execution_count": 3,
      "metadata": {
        "colab": {
          "base_uri": "https://localhost:8080/"
        },
        "id": "oc8Qg8wQIWCU",
        "outputId": "0ec19c7f-86c8-48cf-9ae8-afe2be69baff"
      },
      "outputs": [
        {
          "name": "stderr",
          "output_type": "stream",
          "text": [
            "[*********************100%%**********************]  1 of 1 completed\n"
          ]
        }
      ],
      "source": [
        "# Get accurate data using yfinance library\n",
        "# Give symbol and start and end date\n",
        "\n",
        "import yfinance as yf\n",
        "from datetime import datetime\n",
        "\n",
        "symbol='RAJESHEXPO.BO'\n",
        "start_date = \"2001-06-06\"\n",
        "end_date = datetime.today().strftime('%Y-%m-%d')\n",
        "df = yf.download(symbol ,start=start_date , end= end_date)\n"
      ]
    },
    {
      "cell_type": "markdown",
      "metadata": {
        "id": "IGdYnaE0QRUr"
      },
      "source": [
        "### DATA Preprocessing if we are using yfinance library"
      ]
    },
    {
      "cell_type": "code",
      "execution_count": 4,
      "metadata": {
        "colab": {
          "base_uri": "https://localhost:8080/",
          "height": 424
        },
        "id": "EkLtJcD0VSNH",
        "outputId": "2c44eeea-f538-4230-ff36-72009252fb04"
      },
      "outputs": [
        {
          "data": {
            "text/html": [
              "<div>\n",
              "<style scoped>\n",
              "    .dataframe tbody tr th:only-of-type {\n",
              "        vertical-align: middle;\n",
              "    }\n",
              "\n",
              "    .dataframe tbody tr th {\n",
              "        vertical-align: top;\n",
              "    }\n",
              "\n",
              "    .dataframe thead th {\n",
              "        text-align: right;\n",
              "    }\n",
              "</style>\n",
              "<table border=\"1\" class=\"dataframe\">\n",
              "  <thead>\n",
              "    <tr style=\"text-align: right;\">\n",
              "      <th></th>\n",
              "      <th>Date</th>\n",
              "      <th>Open</th>\n",
              "      <th>High</th>\n",
              "      <th>Low</th>\n",
              "      <th>Close</th>\n",
              "      <th>Adj Close</th>\n",
              "      <th>Volume</th>\n",
              "    </tr>\n",
              "  </thead>\n",
              "  <tbody>\n",
              "    <tr>\n",
              "      <th>0</th>\n",
              "      <td>2001-06-06</td>\n",
              "      <td>2.083248</td>\n",
              "      <td>2.083248</td>\n",
              "      <td>2.083248</td>\n",
              "      <td>2.083248</td>\n",
              "      <td>0.013940</td>\n",
              "      <td>6000</td>\n",
              "    </tr>\n",
              "    <tr>\n",
              "      <th>1</th>\n",
              "      <td>2001-06-07</td>\n",
              "      <td>2.083248</td>\n",
              "      <td>2.083248</td>\n",
              "      <td>2.083248</td>\n",
              "      <td>2.083248</td>\n",
              "      <td>0.013940</td>\n",
              "      <td>0</td>\n",
              "    </tr>\n",
              "    <tr>\n",
              "      <th>2</th>\n",
              "      <td>2001-06-08</td>\n",
              "      <td>2.066580</td>\n",
              "      <td>2.066580</td>\n",
              "      <td>2.066580</td>\n",
              "      <td>2.066580</td>\n",
              "      <td>0.013828</td>\n",
              "      <td>5250</td>\n",
              "    </tr>\n",
              "    <tr>\n",
              "      <th>3</th>\n",
              "      <td>2001-06-11</td>\n",
              "      <td>2.066580</td>\n",
              "      <td>2.066580</td>\n",
              "      <td>2.066580</td>\n",
              "      <td>2.066580</td>\n",
              "      <td>0.013828</td>\n",
              "      <td>0</td>\n",
              "    </tr>\n",
              "    <tr>\n",
              "      <th>4</th>\n",
              "      <td>2001-06-12</td>\n",
              "      <td>2.066580</td>\n",
              "      <td>2.066580</td>\n",
              "      <td>2.066580</td>\n",
              "      <td>2.066580</td>\n",
              "      <td>0.013828</td>\n",
              "      <td>0</td>\n",
              "    </tr>\n",
              "    <tr>\n",
              "      <th>...</th>\n",
              "      <td>...</td>\n",
              "      <td>...</td>\n",
              "      <td>...</td>\n",
              "      <td>...</td>\n",
              "      <td>...</td>\n",
              "      <td>...</td>\n",
              "      <td>...</td>\n",
              "    </tr>\n",
              "    <tr>\n",
              "      <th>5634</th>\n",
              "      <td>2024-03-01</td>\n",
              "      <td>310.149994</td>\n",
              "      <td>315.799988</td>\n",
              "      <td>310.000000</td>\n",
              "      <td>311.750000</td>\n",
              "      <td>311.750000</td>\n",
              "      <td>59423</td>\n",
              "    </tr>\n",
              "    <tr>\n",
              "      <th>5635</th>\n",
              "      <td>2024-03-04</td>\n",
              "      <td>322.350006</td>\n",
              "      <td>322.950012</td>\n",
              "      <td>312.049988</td>\n",
              "      <td>313.350006</td>\n",
              "      <td>313.350006</td>\n",
              "      <td>65335</td>\n",
              "    </tr>\n",
              "    <tr>\n",
              "      <th>5636</th>\n",
              "      <td>2024-03-05</td>\n",
              "      <td>313.200012</td>\n",
              "      <td>328.000000</td>\n",
              "      <td>312.100006</td>\n",
              "      <td>325.799988</td>\n",
              "      <td>325.799988</td>\n",
              "      <td>140298</td>\n",
              "    </tr>\n",
              "    <tr>\n",
              "      <th>5637</th>\n",
              "      <td>2024-03-06</td>\n",
              "      <td>329.649994</td>\n",
              "      <td>330.750000</td>\n",
              "      <td>318.299988</td>\n",
              "      <td>329.450012</td>\n",
              "      <td>329.450012</td>\n",
              "      <td>186725</td>\n",
              "    </tr>\n",
              "    <tr>\n",
              "      <th>5638</th>\n",
              "      <td>2024-03-07</td>\n",
              "      <td>328.000000</td>\n",
              "      <td>328.000000</td>\n",
              "      <td>316.049988</td>\n",
              "      <td>317.649994</td>\n",
              "      <td>317.649994</td>\n",
              "      <td>41494</td>\n",
              "    </tr>\n",
              "  </tbody>\n",
              "</table>\n",
              "<p>5639 rows × 7 columns</p>\n",
              "</div>"
            ],
            "text/plain": [
              "           Date        Open        High         Low       Close   Adj Close  \\\n",
              "0    2001-06-06    2.083248    2.083248    2.083248    2.083248    0.013940   \n",
              "1    2001-06-07    2.083248    2.083248    2.083248    2.083248    0.013940   \n",
              "2    2001-06-08    2.066580    2.066580    2.066580    2.066580    0.013828   \n",
              "3    2001-06-11    2.066580    2.066580    2.066580    2.066580    0.013828   \n",
              "4    2001-06-12    2.066580    2.066580    2.066580    2.066580    0.013828   \n",
              "...         ...         ...         ...         ...         ...         ...   \n",
              "5634 2024-03-01  310.149994  315.799988  310.000000  311.750000  311.750000   \n",
              "5635 2024-03-04  322.350006  322.950012  312.049988  313.350006  313.350006   \n",
              "5636 2024-03-05  313.200012  328.000000  312.100006  325.799988  325.799988   \n",
              "5637 2024-03-06  329.649994  330.750000  318.299988  329.450012  329.450012   \n",
              "5638 2024-03-07  328.000000  328.000000  316.049988  317.649994  317.649994   \n",
              "\n",
              "      Volume  \n",
              "0       6000  \n",
              "1          0  \n",
              "2       5250  \n",
              "3          0  \n",
              "4          0  \n",
              "...      ...  \n",
              "5634   59423  \n",
              "5635   65335  \n",
              "5636  140298  \n",
              "5637  186725  \n",
              "5638   41494  \n",
              "\n",
              "[5639 rows x 7 columns]"
            ]
          },
          "execution_count": 4,
          "metadata": {},
          "output_type": "execute_result"
        }
      ],
      "source": [
        "df =df.reset_index()\n",
        "df\n"
      ]
    },
    {
      "cell_type": "code",
      "execution_count": 5,
      "metadata": {
        "id": "ObZ1Zj4lLr7F"
      },
      "outputs": [],
      "source": [
        "# Add more features to improve accuracy and drop null value\n",
        "\n",
        "df['Tommorow']= df['Close'].shift(1)\n",
        "df.dropna(inplace=True)\n",
        "df['Target']=(df['Close']>df['Tommorow']).astype(int)"
      ]
    },
    {
      "cell_type": "code",
      "execution_count": 6,
      "metadata": {
        "colab": {
          "base_uri": "https://localhost:8080/",
          "height": 424
        },
        "id": "-jkbbeZBMBV7",
        "outputId": "d2bfc061-dfae-4ae6-a2c3-432d4c057820"
      },
      "outputs": [
        {
          "data": {
            "text/html": [
              "<div>\n",
              "<style scoped>\n",
              "    .dataframe tbody tr th:only-of-type {\n",
              "        vertical-align: middle;\n",
              "    }\n",
              "\n",
              "    .dataframe tbody tr th {\n",
              "        vertical-align: top;\n",
              "    }\n",
              "\n",
              "    .dataframe thead th {\n",
              "        text-align: right;\n",
              "    }\n",
              "</style>\n",
              "<table border=\"1\" class=\"dataframe\">\n",
              "  <thead>\n",
              "    <tr style=\"text-align: right;\">\n",
              "      <th></th>\n",
              "      <th>Date</th>\n",
              "      <th>Open</th>\n",
              "      <th>High</th>\n",
              "      <th>Low</th>\n",
              "      <th>Close</th>\n",
              "      <th>Adj Close</th>\n",
              "      <th>Volume</th>\n",
              "      <th>Tommorow</th>\n",
              "      <th>Target</th>\n",
              "    </tr>\n",
              "  </thead>\n",
              "  <tbody>\n",
              "    <tr>\n",
              "      <th>1</th>\n",
              "      <td>2001-06-07</td>\n",
              "      <td>2.083248</td>\n",
              "      <td>2.083248</td>\n",
              "      <td>2.083248</td>\n",
              "      <td>2.083248</td>\n",
              "      <td>0.013940</td>\n",
              "      <td>0</td>\n",
              "      <td>2.083248</td>\n",
              "      <td>0</td>\n",
              "    </tr>\n",
              "    <tr>\n",
              "      <th>2</th>\n",
              "      <td>2001-06-08</td>\n",
              "      <td>2.066580</td>\n",
              "      <td>2.066580</td>\n",
              "      <td>2.066580</td>\n",
              "      <td>2.066580</td>\n",
              "      <td>0.013828</td>\n",
              "      <td>5250</td>\n",
              "      <td>2.083248</td>\n",
              "      <td>0</td>\n",
              "    </tr>\n",
              "    <tr>\n",
              "      <th>3</th>\n",
              "      <td>2001-06-11</td>\n",
              "      <td>2.066580</td>\n",
              "      <td>2.066580</td>\n",
              "      <td>2.066580</td>\n",
              "      <td>2.066580</td>\n",
              "      <td>0.013828</td>\n",
              "      <td>0</td>\n",
              "      <td>2.066580</td>\n",
              "      <td>0</td>\n",
              "    </tr>\n",
              "    <tr>\n",
              "      <th>4</th>\n",
              "      <td>2001-06-12</td>\n",
              "      <td>2.066580</td>\n",
              "      <td>2.066580</td>\n",
              "      <td>2.066580</td>\n",
              "      <td>2.066580</td>\n",
              "      <td>0.013828</td>\n",
              "      <td>0</td>\n",
              "      <td>2.066580</td>\n",
              "      <td>0</td>\n",
              "    </tr>\n",
              "    <tr>\n",
              "      <th>5</th>\n",
              "      <td>2001-06-13</td>\n",
              "      <td>2.066580</td>\n",
              "      <td>2.066580</td>\n",
              "      <td>2.066580</td>\n",
              "      <td>2.066580</td>\n",
              "      <td>0.013828</td>\n",
              "      <td>0</td>\n",
              "      <td>2.066580</td>\n",
              "      <td>0</td>\n",
              "    </tr>\n",
              "    <tr>\n",
              "      <th>...</th>\n",
              "      <td>...</td>\n",
              "      <td>...</td>\n",
              "      <td>...</td>\n",
              "      <td>...</td>\n",
              "      <td>...</td>\n",
              "      <td>...</td>\n",
              "      <td>...</td>\n",
              "      <td>...</td>\n",
              "      <td>...</td>\n",
              "    </tr>\n",
              "    <tr>\n",
              "      <th>5634</th>\n",
              "      <td>2024-03-01</td>\n",
              "      <td>310.149994</td>\n",
              "      <td>315.799988</td>\n",
              "      <td>310.000000</td>\n",
              "      <td>311.750000</td>\n",
              "      <td>311.750000</td>\n",
              "      <td>59423</td>\n",
              "      <td>308.850006</td>\n",
              "      <td>1</td>\n",
              "    </tr>\n",
              "    <tr>\n",
              "      <th>5635</th>\n",
              "      <td>2024-03-04</td>\n",
              "      <td>322.350006</td>\n",
              "      <td>322.950012</td>\n",
              "      <td>312.049988</td>\n",
              "      <td>313.350006</td>\n",
              "      <td>313.350006</td>\n",
              "      <td>65335</td>\n",
              "      <td>311.750000</td>\n",
              "      <td>1</td>\n",
              "    </tr>\n",
              "    <tr>\n",
              "      <th>5636</th>\n",
              "      <td>2024-03-05</td>\n",
              "      <td>313.200012</td>\n",
              "      <td>328.000000</td>\n",
              "      <td>312.100006</td>\n",
              "      <td>325.799988</td>\n",
              "      <td>325.799988</td>\n",
              "      <td>140298</td>\n",
              "      <td>313.350006</td>\n",
              "      <td>1</td>\n",
              "    </tr>\n",
              "    <tr>\n",
              "      <th>5637</th>\n",
              "      <td>2024-03-06</td>\n",
              "      <td>329.649994</td>\n",
              "      <td>330.750000</td>\n",
              "      <td>318.299988</td>\n",
              "      <td>329.450012</td>\n",
              "      <td>329.450012</td>\n",
              "      <td>186725</td>\n",
              "      <td>325.799988</td>\n",
              "      <td>1</td>\n",
              "    </tr>\n",
              "    <tr>\n",
              "      <th>5638</th>\n",
              "      <td>2024-03-07</td>\n",
              "      <td>328.000000</td>\n",
              "      <td>328.000000</td>\n",
              "      <td>316.049988</td>\n",
              "      <td>317.649994</td>\n",
              "      <td>317.649994</td>\n",
              "      <td>41494</td>\n",
              "      <td>329.450012</td>\n",
              "      <td>0</td>\n",
              "    </tr>\n",
              "  </tbody>\n",
              "</table>\n",
              "<p>5638 rows × 9 columns</p>\n",
              "</div>"
            ],
            "text/plain": [
              "           Date        Open        High         Low       Close   Adj Close  \\\n",
              "1    2001-06-07    2.083248    2.083248    2.083248    2.083248    0.013940   \n",
              "2    2001-06-08    2.066580    2.066580    2.066580    2.066580    0.013828   \n",
              "3    2001-06-11    2.066580    2.066580    2.066580    2.066580    0.013828   \n",
              "4    2001-06-12    2.066580    2.066580    2.066580    2.066580    0.013828   \n",
              "5    2001-06-13    2.066580    2.066580    2.066580    2.066580    0.013828   \n",
              "...         ...         ...         ...         ...         ...         ...   \n",
              "5634 2024-03-01  310.149994  315.799988  310.000000  311.750000  311.750000   \n",
              "5635 2024-03-04  322.350006  322.950012  312.049988  313.350006  313.350006   \n",
              "5636 2024-03-05  313.200012  328.000000  312.100006  325.799988  325.799988   \n",
              "5637 2024-03-06  329.649994  330.750000  318.299988  329.450012  329.450012   \n",
              "5638 2024-03-07  328.000000  328.000000  316.049988  317.649994  317.649994   \n",
              "\n",
              "      Volume    Tommorow  Target  \n",
              "1          0    2.083248       0  \n",
              "2       5250    2.083248       0  \n",
              "3          0    2.066580       0  \n",
              "4          0    2.066580       0  \n",
              "5          0    2.066580       0  \n",
              "...      ...         ...     ...  \n",
              "5634   59423  308.850006       1  \n",
              "5635   65335  311.750000       1  \n",
              "5636  140298  313.350006       1  \n",
              "5637  186725  325.799988       1  \n",
              "5638   41494  329.450012       0  \n",
              "\n",
              "[5638 rows x 9 columns]"
            ]
          },
          "execution_count": 6,
          "metadata": {},
          "output_type": "execute_result"
        }
      ],
      "source": [
        "df"
      ]
    },
    {
      "cell_type": "markdown",
      "metadata": {
        "id": "hP5PraX5pdxI"
      },
      "source": [
        "#Data visualization"
      ]
    },
    {
      "cell_type": "code",
      "execution_count": 7,
      "metadata": {
        "colab": {
          "base_uri": "https://localhost:8080/",
          "height": 564
        },
        "id": "Qwn6rrv4Vm8H",
        "outputId": "5ae9f0b8-b0c0-4b69-9cbd-d7f6bb5e0a66"
      },
      "outputs": [
        {
          "data": {
            "image/png": "[encoded data removed]",
            "text/plain": [
              "<Figure size 1200x600 with 1 Axes>"
            ]
          },
          "metadata": {},
          "output_type": "display_data"
        }
      ],
      "source": [
        "import matplotlib.pyplot as plt\n",
        "\n",
        "# Plotting the closing prices using numerical index\n",
        "plt.figure(figsize=(12,6))\n",
        "plt.plot(df['Date'], df['Close'], label='Close Price', color='blue')\n",
        "plt.title('Stock Close Price Over Time')\n",
        "plt.xlabel('Index')\n",
        "plt.ylabel('Close Price')\n",
        "plt.legend()\n",
        "plt.show()\n"
      ]
    },
    {
      "cell_type": "markdown",
      "metadata": {
        "id": "7vQOMyBkqNQR"
      },
      "source": [
        "# Data Analysis"
      ]
    },
    {
      "cell_type": "code",
      "execution_count": 8,
      "metadata": {
        "colab": {
          "base_uri": "https://localhost:8080/",
          "height": 300
        },
        "id": "v5s7EsWFqEDw",
        "outputId": "c54527ff-804f-4185-ada4-21675993c2c6"
      },
      "outputs": [
        {
          "data": {
            "text/html": [
              "<div>\n",
              "<style scoped>\n",
              "    .dataframe tbody tr th:only-of-type {\n",
              "        vertical-align: middle;\n",
              "    }\n",
              "\n",
              "    .dataframe tbody tr th {\n",
              "        vertical-align: top;\n",
              "    }\n",
              "\n",
              "    .dataframe thead th {\n",
              "        text-align: right;\n",
              "    }\n",
              "</style>\n",
              "<table border=\"1\" class=\"dataframe\">\n",
              "  <thead>\n",
              "    <tr style=\"text-align: right;\">\n",
              "      <th></th>\n",
              "      <th>Date</th>\n",
              "      <th>Open</th>\n",
              "      <th>High</th>\n",
              "      <th>Low</th>\n",
              "      <th>Close</th>\n",
              "      <th>Adj Close</th>\n",
              "      <th>Volume</th>\n",
              "      <th>Tommorow</th>\n",
              "      <th>Target</th>\n",
              "    </tr>\n",
              "  </thead>\n",
              "  <tbody>\n",
              "    <tr>\n",
              "      <th>count</th>\n",
              "      <td>5638</td>\n",
              "      <td>5638.000000</td>\n",
              "      <td>5638.000000</td>\n",
              "      <td>5638.000000</td>\n",
              "      <td>5638.000000</td>\n",
              "      <td>5638.000000</td>\n",
              "      <td>5.638000e+03</td>\n",
              "      <td>5638.000000</td>\n",
              "      <td>5638.000000</td>\n",
              "    </tr>\n",
              "    <tr>\n",
              "      <th>mean</th>\n",
              "      <td>2012-09-06 23:26:32.479602688</td>\n",
              "      <td>270.452287</td>\n",
              "      <td>274.822272</td>\n",
              "      <td>265.189778</td>\n",
              "      <td>268.889196</td>\n",
              "      <td>265.624799</td>\n",
              "      <td>2.644254e+05</td>\n",
              "      <td>268.833224</td>\n",
              "      <td>0.482086</td>\n",
              "    </tr>\n",
              "    <tr>\n",
              "      <th>min</th>\n",
              "      <td>2001-06-07 00:00:00</td>\n",
              "      <td>1.699932</td>\n",
              "      <td>1.699932</td>\n",
              "      <td>1.699932</td>\n",
              "      <td>1.699932</td>\n",
              "      <td>0.011598</td>\n",
              "      <td>0.000000e+00</td>\n",
              "      <td>1.699932</td>\n",
              "      <td>0.000000</td>\n",
              "    </tr>\n",
              "    <tr>\n",
              "      <th>25%</th>\n",
              "      <td>2006-12-01 18:00:00</td>\n",
              "      <td>31.665396</td>\n",
              "      <td>32.704942</td>\n",
              "      <td>30.808024</td>\n",
              "      <td>31.552903</td>\n",
              "      <td>28.027685</td>\n",
              "      <td>3.183550e+04</td>\n",
              "      <td>31.515402</td>\n",
              "      <td>0.000000</td>\n",
              "    </tr>\n",
              "    <tr>\n",
              "      <th>50%</th>\n",
              "      <td>2012-08-25 12:00:00</td>\n",
              "      <td>126.339138</td>\n",
              "      <td>129.025002</td>\n",
              "      <td>123.599998</td>\n",
              "      <td>125.974998</td>\n",
              "      <td>122.276180</td>\n",
              "      <td>7.496600e+04</td>\n",
              "      <td>125.949997</td>\n",
              "      <td>0.000000</td>\n",
              "    </tr>\n",
              "    <tr>\n",
              "      <th>75%</th>\n",
              "      <td>2018-05-24 18:00:00</td>\n",
              "      <td>557.875015</td>\n",
              "      <td>567.037491</td>\n",
              "      <td>545.387512</td>\n",
              "      <td>553.987503</td>\n",
              "      <td>551.284637</td>\n",
              "      <td>2.626872e+05</td>\n",
              "      <td>553.987503</td>\n",
              "      <td>1.000000</td>\n",
              "    </tr>\n",
              "    <tr>\n",
              "      <th>max</th>\n",
              "      <td>2024-03-07 00:00:00</td>\n",
              "      <td>958.849976</td>\n",
              "      <td>1028.400024</td>\n",
              "      <td>907.299988</td>\n",
              "      <td>952.500000</td>\n",
              "      <td>948.174683</td>\n",
              "      <td>2.833409e+07</td>\n",
              "      <td>952.500000</td>\n",
              "      <td>1.000000</td>\n",
              "    </tr>\n",
              "    <tr>\n",
              "      <th>std</th>\n",
              "      <td>NaN</td>\n",
              "      <td>273.496499</td>\n",
              "      <td>277.359329</td>\n",
              "      <td>268.316640</td>\n",
              "      <td>271.637574</td>\n",
              "      <td>271.959845</td>\n",
              "      <td>6.407963e+05</td>\n",
              "      <td>271.660036</td>\n",
              "      <td>0.499723</td>\n",
              "    </tr>\n",
              "  </tbody>\n",
              "</table>\n",
              "</div>"
            ],
            "text/plain": [
              "                                Date         Open         High          Low  \\\n",
              "count                           5638  5638.000000  5638.000000  5638.000000   \n",
              "mean   2012-09-06 23:26:32.479602688   270.452287   274.822272   265.189778   \n",
              "min              2001-06-07 00:00:00     1.699932     1.699932     1.699932   \n",
              "25%              2006-12-01 18:00:00    31.665396    32.704942    30.808024   \n",
              "50%              2012-08-25 12:00:00   126.339138   129.025002   123.599998   \n",
              "75%              2018-05-24 18:00:00   557.875015   567.037491   545.387512   \n",
              "max              2024-03-07 00:00:00   958.849976  1028.400024   907.299988   \n",
              "std                              NaN   273.496499   277.359329   268.316640   \n",
              "\n",
              "             Close    Adj Close        Volume     Tommorow       Target  \n",
              "count  5638.000000  5638.000000  5.638000e+03  5638.000000  5638.000000  \n",
              "mean    268.889196   265.624799  2.644254e+05   268.833224     0.482086  \n",
              "min       1.699932     0.011598  0.000000e+00     1.699932     0.000000  \n",
              "25%      31.552903    28.027685  3.183550e+04    31.515402     0.000000  \n",
              "50%     125.974998   122.276180  7.496600e+04   125.949997     0.000000  \n",
              "75%     553.987503   551.284637  2.626872e+05   553.987503     1.000000  \n",
              "max     952.500000   948.174683  2.833409e+07   952.500000     1.000000  \n",
              "std     271.637574   271.959845  6.407963e+05   271.660036     0.499723  "
            ]
          },
          "execution_count": 8,
          "metadata": {},
          "output_type": "execute_result"
        }
      ],
      "source": [
        "df.describe()"
      ]
    },
    {
      "cell_type": "code",
      "execution_count": 9,
      "metadata": {
        "colab": {
          "base_uri": "https://localhost:8080/"
        },
        "id": "rWvelJsFqHly",
        "outputId": "883ad9e0-916e-4774-b558-142940f529c8"
      },
      "outputs": [
        {
          "name": "stdout",
          "output_type": "stream",
          "text": [
            "<class 'pandas.core.frame.DataFrame'>\n",
            "Index: 5638 entries, 1 to 5638\n",
            "Data columns (total 9 columns):\n",
            " #   Column     Non-Null Count  Dtype         \n",
            "---  ------     --------------  -----         \n",
            " 0   Date       5638 non-null   datetime64[ns]\n",
            " 1   Open       5638 non-null   float64       \n",
            " 2   High       5638 non-null   float64       \n",
            " 3   Low        5638 non-null   float64       \n",
            " 4   Close      5638 non-null   float64       \n",
            " 5   Adj Close  5638 non-null   float64       \n",
            " 6   Volume     5638 non-null   int64         \n",
            " 7   Tommorow   5638 non-null   float64       \n",
            " 8   Target     5638 non-null   int64         \n",
            "dtypes: datetime64[ns](1), float64(6), int64(2)\n",
            "memory usage: 440.5 KB\n"
          ]
        }
      ],
      "source": [
        "df.info()"
      ]
    },
    {
      "cell_type": "code",
      "execution_count": 10,
      "metadata": {
        "colab": {
          "base_uri": "https://localhost:8080/",
          "height": 754
        },
        "id": "n2sUplq4VrlP",
        "outputId": "f0cfe3d8-0975-485a-fac9-712ea25ae108"
      },
      "outputs": [
        {
          "data": {
            "image/png": "[encoded data removed]",
            "text/plain": [
              "<Figure size 1000x800 with 2 Axes>"
            ]
          },
          "metadata": {},
          "output_type": "display_data"
        }
      ],
      "source": [
        "import seaborn as sns\n",
        "\n",
        "# Compute the correlation matrix\n",
        "correlation_matrix = df.corr()\n",
        "\n",
        "# Plot the correlation matrix as a heatmap\n",
        "plt.figure(figsize=(10, 8))\n",
        "sns.heatmap(correlation_matrix, annot=True, cmap='coolwarm', fmt=\".2f\")\n",
        "plt.title('Correlation Plot of Stock Data Features')\n",
        "plt.show()\n"
      ]
    },
    {
      "cell_type": "code",
      "execution_count": 11,
      "metadata": {
        "id": "djY40LmGXgM4"
      },
      "outputs": [],
      "source": [
        "# Drop the 'Date' column from the DataFrame\n",
        "df.drop(df.columns[[0,5]] , axis=1 , inplace=True)\n"
      ]
    },
    {
      "cell_type": "code",
      "execution_count": 12,
      "metadata": {
        "colab": {
          "base_uri": "https://localhost:8080/",
          "height": 424
        },
        "id": "zRV88aGEl8dP",
        "outputId": "00dbaddf-1a0a-407d-e58f-58054cbd4c44"
      },
      "outputs": [
        {
          "data": {
            "text/html": [
              "<div>\n",
              "<style scoped>\n",
              "    .dataframe tbody tr th:only-of-type {\n",
              "        vertical-align: middle;\n",
              "    }\n",
              "\n",
              "    .dataframe tbody tr th {\n",
              "        vertical-align: top;\n",
              "    }\n",
              "\n",
              "    .dataframe thead th {\n",
              "        text-align: right;\n",
              "    }\n",
              "</style>\n",
              "<table border=\"1\" class=\"dataframe\">\n",
              "  <thead>\n",
              "    <tr style=\"text-align: right;\">\n",
              "      <th></th>\n",
              "      <th>Open</th>\n",
              "      <th>High</th>\n",
              "      <th>Low</th>\n",
              "      <th>Close</th>\n",
              "      <th>Volume</th>\n",
              "      <th>Tommorow</th>\n",
              "      <th>Target</th>\n",
              "    </tr>\n",
              "  </thead>\n",
              "  <tbody>\n",
              "    <tr>\n",
              "      <th>1</th>\n",
              "      <td>2.083248</td>\n",
              "      <td>2.083248</td>\n",
              "      <td>2.083248</td>\n",
              "      <td>2.083248</td>\n",
              "      <td>0</td>\n",
              "      <td>2.083248</td>\n",
              "      <td>0</td>\n",
              "    </tr>\n",
              "    <tr>\n",
              "      <th>2</th>\n",
              "      <td>2.066580</td>\n",
              "      <td>2.066580</td>\n",
              "      <td>2.066580</td>\n",
              "      <td>2.066580</td>\n",
              "      <td>5250</td>\n",
              "      <td>2.083248</td>\n",
              "      <td>0</td>\n",
              "    </tr>\n",
              "    <tr>\n",
              "      <th>3</th>\n",
              "      <td>2.066580</td>\n",
              "      <td>2.066580</td>\n",
              "      <td>2.066580</td>\n",
              "      <td>2.066580</td>\n",
              "      <td>0</td>\n",
              "      <td>2.066580</td>\n",
              "      <td>0</td>\n",
              "    </tr>\n",
              "    <tr>\n",
              "      <th>4</th>\n",
              "      <td>2.066580</td>\n",
              "      <td>2.066580</td>\n",
              "      <td>2.066580</td>\n",
              "      <td>2.066580</td>\n",
              "      <td>0</td>\n",
              "      <td>2.066580</td>\n",
              "      <td>0</td>\n",
              "    </tr>\n",
              "    <tr>\n",
              "      <th>5</th>\n",
              "      <td>2.066580</td>\n",
              "      <td>2.066580</td>\n",
              "      <td>2.066580</td>\n",
              "      <td>2.066580</td>\n",
              "      <td>0</td>\n",
              "      <td>2.066580</td>\n",
              "      <td>0</td>\n",
              "    </tr>\n",
              "    <tr>\n",
              "      <th>...</th>\n",
              "      <td>...</td>\n",
              "      <td>...</td>\n",
              "      <td>...</td>\n",
              "      <td>...</td>\n",
              "      <td>...</td>\n",
              "      <td>...</td>\n",
              "      <td>...</td>\n",
              "    </tr>\n",
              "    <tr>\n",
              "      <th>5634</th>\n",
              "      <td>310.149994</td>\n",
              "      <td>315.799988</td>\n",
              "      <td>310.000000</td>\n",
              "      <td>311.750000</td>\n",
              "      <td>59423</td>\n",
              "      <td>308.850006</td>\n",
              "      <td>1</td>\n",
              "    </tr>\n",
              "    <tr>\n",
              "      <th>5635</th>\n",
              "      <td>322.350006</td>\n",
              "      <td>322.950012</td>\n",
              "      <td>312.049988</td>\n",
              "      <td>313.350006</td>\n",
              "      <td>65335</td>\n",
              "      <td>311.750000</td>\n",
              "      <td>1</td>\n",
              "    </tr>\n",
              "    <tr>\n",
              "      <th>5636</th>\n",
              "      <td>313.200012</td>\n",
              "      <td>328.000000</td>\n",
              "      <td>312.100006</td>\n",
              "      <td>325.799988</td>\n",
              "      <td>140298</td>\n",
              "      <td>313.350006</td>\n",
              "      <td>1</td>\n",
              "    </tr>\n",
              "    <tr>\n",
              "      <th>5637</th>\n",
              "      <td>329.649994</td>\n",
              "      <td>330.750000</td>\n",
              "      <td>318.299988</td>\n",
              "      <td>329.450012</td>\n",
              "      <td>186725</td>\n",
              "      <td>325.799988</td>\n",
              "      <td>1</td>\n",
              "    </tr>\n",
              "    <tr>\n",
              "      <th>5638</th>\n",
              "      <td>328.000000</td>\n",
              "      <td>328.000000</td>\n",
              "      <td>316.049988</td>\n",
              "      <td>317.649994</td>\n",
              "      <td>41494</td>\n",
              "      <td>329.450012</td>\n",
              "      <td>0</td>\n",
              "    </tr>\n",
              "  </tbody>\n",
              "</table>\n",
              "<p>5638 rows × 7 columns</p>\n",
              "</div>"
            ],
            "text/plain": [
              "            Open        High         Low       Close  Volume    Tommorow  \\\n",
              "1       2.083248    2.083248    2.083248    2.083248       0    2.083248   \n",
              "2       2.066580    2.066580    2.066580    2.066580    5250    2.083248   \n",
              "3       2.066580    2.066580    2.066580    2.066580       0    2.066580   \n",
              "4       2.066580    2.066580    2.066580    2.066580       0    2.066580   \n",
              "5       2.066580    2.066580    2.066580    2.066580       0    2.066580   \n",
              "...          ...         ...         ...         ...     ...         ...   \n",
              "5634  310.149994  315.799988  310.000000  311.750000   59423  308.850006   \n",
              "5635  322.350006  322.950012  312.049988  313.350006   65335  311.750000   \n",
              "5636  313.200012  328.000000  312.100006  325.799988  140298  313.350006   \n",
              "5637  329.649994  330.750000  318.299988  329.450012  186725  325.799988   \n",
              "5638  328.000000  328.000000  316.049988  317.649994   41494  329.450012   \n",
              "\n",
              "      Target  \n",
              "1          0  \n",
              "2          0  \n",
              "3          0  \n",
              "4          0  \n",
              "5          0  \n",
              "...      ...  \n",
              "5634       1  \n",
              "5635       1  \n",
              "5636       1  \n",
              "5637       1  \n",
              "5638       0  \n",
              "\n",
              "[5638 rows x 7 columns]"
            ]
          },
          "execution_count": 12,
          "metadata": {},
          "output_type": "execute_result"
        }
      ],
      "source": [
        "df"
      ]
    },
    {
      "cell_type": "code",
      "execution_count": 13,
      "metadata": {
        "id": "p9hVfx90Vwe_"
      },
      "outputs": [],
      "source": [
        "\n",
        "# Split the data into features (X) and target (y)\n",
        "x = df.drop(columns=['Target'])  # Features are all columns except 'Market_High_Indicator'\n",
        "y = df['Target']  # Target column is 'Market_High_Indicator'\n",
        "\n",
        "# Now, you can use X and y for further processing, such as training and testing your model"
      ]
    },
    {
      "cell_type": "markdown",
      "metadata": {
        "id": "ax-bcUmYqT9B"
      },
      "source": [
        "#Model training"
      ]
    },
    {
      "cell_type": "code",
      "execution_count": 14,
      "metadata": {
        "id": "pUZOu4Y6V7y_"
      },
      "outputs": [],
      "source": [
        "from sklearn.model_selection import train_test_split\n",
        "\n",
        "# Split the data into training and testing sets (e.g., 80% training, 20% testing)\n",
        "X_train, X_test, y_train, y_test = train_test_split(x, y, test_size=0.2, random_state=42)\n",
        "\n",
        "# Now, you can use X_train, X_test, y_train, and y_test for training and evaluating your model"
      ]
    },
    {
      "cell_type": "code",
      "execution_count": 15,
      "metadata": {
        "id": "XT6W75p6UAjD"
      },
      "outputs": [],
      "source": [
        "from sklearn.preprocessing import MinMaxScaler\n",
        "scale = MinMaxScaler()\n",
        "X_train_scale = scale.fit_transform(X_train)\n",
        "\n"
      ]
    },
    {
      "cell_type": "code",
      "execution_count": 16,
      "metadata": {
        "colab": {
          "base_uri": "https://localhost:8080/"
        },
        "id": "tvIZh_YzWFde",
        "outputId": "979feecc-f646-42b8-ec6c-3c3aeddbacb2"
      },
      "outputs": [
        {
          "data": {
            "text/plain": [
              "(4510, 6)"
            ]
          },
          "execution_count": 16,
          "metadata": {},
          "output_type": "execute_result"
        }
      ],
      "source": [
        "X_train.shape"
      ]
    },
    {
      "cell_type": "code",
      "execution_count": 17,
      "metadata": {
        "id": "y1VTJiMwYEsg"
      },
      "outputs": [
        {
          "name": "stderr",
          "output_type": "stream",
          "text": [
            "2024-03-08 05:16:22.391869: E external/local_xla/xla/stream_executor/cuda/cuda_dnn.cc:9261] Unable to register cuDNN factory: Attempting to register factory for plugin cuDNN when one has already been registered\n",
            "2024-03-08 05:16:22.392296: E external/local_xla/xla/stream_executor/cuda/cuda_fft.cc:607] Unable to register cuFFT factory: Attempting to register factory for plugin cuFFT when one has already been registered\n",
            "2024-03-08 05:16:22.897009: E external/local_xla/xla/stream_executor/cuda/cuda_blas.cc:1515] Unable to register cuBLAS factory: Attempting to register factory for plugin cuBLAS when one has already been registered\n",
            "2024-03-08 05:16:24.079279: I tensorflow/core/platform/cpu_feature_guard.cc:182] This TensorFlow binary is optimized to use available CPU instructions in performance-critical operations.\n",
            "To enable the following instructions: AVX2 FMA, in other operations, rebuild TensorFlow with the appropriate compiler flags.\n",
            "2024-03-08 05:16:31.631387: W tensorflow/compiler/tf2tensorrt/utils/py_utils.cc:38] TF-TRT Warning: Could not find TensorRT\n"
          ]
        }
      ],
      "source": [
        "from keras.models import Sequential\n",
        "from keras.layers import Dense\n",
        "\n",
        "# Define the model architecture\n",
        "model = Sequential([\n",
        "    Dense(64, activation='relu', input_dim=6),\n",
        "    Dense(64, activation='relu'),\n",
        "    Dense(1, activation='sigmoid')\n",
        "])\n",
        "\n"
      ]
    },
    {
      "cell_type": "code",
      "execution_count": 18,
      "metadata": {
        "colab": {
          "base_uri": "https://localhost:8080/"
        },
        "id": "A3NnlbVtV0jB",
        "outputId": "f4424b94-7f19-413a-ffad-314b47462f27"
      },
      "outputs": [
        {
          "name": "stdout",
          "output_type": "stream",
          "text": [
            "Model: \"sequential\"\n",
            "_________________________________________________________________\n",
            " Layer (type)                Output Shape              Param #   \n",
            "=================================================================\n",
            " dense (Dense)               (None, 64)                448       \n",
            "                                                                 \n",
            " dense_1 (Dense)             (None, 64)                4160      \n",
            "                                                                 \n",
            " dense_2 (Dense)             (None, 1)                 65        \n",
            "                                                                 \n",
            "=================================================================\n",
            "Total params: 4673 (18.25 KB)\n",
            "Trainable params: 4673 (18.25 KB)\n",
            "Non-trainable params: 0 (0.00 Byte)\n",
            "_________________________________________________________________\n"
          ]
        }
      ],
      "source": [
        "model.summary()"
      ]
    },
    {
      "cell_type": "code",
      "execution_count": 19,
      "metadata": {
        "colab": {
          "base_uri": "https://localhost:8080/"
        },
        "id": "B-1PtL4yVyOQ",
        "outputId": "1dec18ee-6fcf-40d7-8493-6c14c253d15a"
      },
      "outputs": [
        {
          "name": "stdout",
          "output_type": "stream",
          "text": [
            "Epoch 1/10\n",
            "113/113 [==============================] - 2s 5ms/step - loss: 1752.3425 - accuracy: 0.5042 - val_loss: 1181.4744 - val_accuracy: 0.5022\n",
            "Epoch 2/10\n",
            "113/113 [==============================] - 0s 2ms/step - loss: 1227.0637 - accuracy: 0.5294 - val_loss: 659.6970 - val_accuracy: 0.4778\n",
            "Epoch 3/10\n",
            "113/113 [==============================] - 0s 3ms/step - loss: 1377.2913 - accuracy: 0.5255 - val_loss: 619.5796 - val_accuracy: 0.5022\n",
            "Epoch 4/10\n",
            "113/113 [==============================] - 0s 2ms/step - loss: 817.0650 - accuracy: 0.5288 - val_loss: 69.5434 - val_accuracy: 0.5776\n",
            "Epoch 5/10\n",
            "113/113 [==============================] - 0s 3ms/step - loss: 853.5025 - accuracy: 0.5358 - val_loss: 838.0690 - val_accuracy: 0.5333\n",
            "Epoch 6/10\n",
            "113/113 [==============================] - 0s 2ms/step - loss: 430.5410 - accuracy: 0.5222 - val_loss: 58.9361 - val_accuracy: 0.5798\n",
            "Epoch 7/10\n",
            "113/113 [==============================] - 0s 2ms/step - loss: 1171.8726 - accuracy: 0.5200 - val_loss: 615.5012 - val_accuracy: 0.5022\n",
            "Epoch 8/10\n",
            "113/113 [==============================] - 0s 2ms/step - loss: 758.1490 - accuracy: 0.5385 - val_loss: 543.4534 - val_accuracy: 0.5388\n",
            "Epoch 9/10\n",
            "113/113 [==============================] - 0s 2ms/step - loss: 697.3433 - accuracy: 0.5188 - val_loss: 945.8519 - val_accuracy: 0.5322\n",
            "Epoch 10/10\n",
            "113/113 [==============================] - 0s 2ms/step - loss: 2124.5623 - accuracy: 0.5191 - val_loss: 2408.6187 - val_accuracy: 0.5022\n"
          ]
        },
        {
          "data": {
            "text/plain": [
              "<keras.src.callbacks.History at 0x7f14b1f76c50>"
            ]
          },
          "execution_count": 19,
          "metadata": {},
          "output_type": "execute_result"
        }
      ],
      "source": [
        "# Compile the model\n",
        "model.compile(optimizer='adam', loss='binary_crossentropy', metrics=['accuracy'])\n",
        "\n",
        "# Train the model\n",
        "model.fit(X_train, y_train, epochs=10, batch_size=32, validation_split=0.2)"
      ]
    },
    {
      "cell_type": "markdown",
      "metadata": {
        "id": "8TP4iaLRqbfD"
      },
      "source": [
        "#Predict next day high"
      ]
    },
    {
      "cell_type": "code",
      "execution_count": 20,
      "metadata": {
        "id": "8bPA2bMHfIBe"
      },
      "outputs": [],
      "source": [
        "from sklearn.preprocessing import MinMaxScaler\n",
        "import numpy as np\n",
        "\n",
        "# Your original array\n",
        "last_row_features = df.drop(columns=['Target']).iloc[-1]\n",
        "last_row_features_array = np.array(last_row_features)\n",
        "\n",
        "# Reshape the array to a 2D array (required by MinMaxScaler)\n",
        "last_row_features_array = last_row_features_array.reshape(-1, 1)\n",
        "\n",
        "# Create the MinMaxScaler\n",
        "scaler = MinMaxScaler()\n",
        "\n",
        "# Fit and transform the data\n",
        "features_scaled_array = scaler.fit_transform(last_row_features_array)\n",
        "features_scaled_array_reshaped = features_scaled_array.reshape(1, -1)"
      ]
    },
    {
      "cell_type": "code",
      "execution_count": 21,
      "metadata": {
        "colab": {
          "base_uri": "https://localhost:8080/"
        },
        "id": "RyrolItiiDum",
        "outputId": "8f144b3d-6dfa-43ca-9a43-7e9fcb69e251"
      },
      "outputs": [
        {
          "name": "stdout",
          "output_type": "stream",
          "text": [
            "1/1 [==============================] - 0s 70ms/step\n",
            "Predicted Market High Indicator for the Next Day: 0\n"
          ]
        }
      ],
      "source": [
        "# Make predictions\n",
        "next_day_prediction = model.predict(features_scaled_array_reshaped)\n",
        "\n",
        "# Convert the prediction to binary (0 or 1)\n",
        "next_day_prediction_binary = 1 if next_day_prediction > 0.5 else 0\n",
        "\n",
        "print(\"Predicted Market High Indicator for the Next Day:\", next_day_prediction_binary)\n"
      ]
    },
    {
      "cell_type": "code",
      "execution_count": 22,
      "metadata": {},
      "outputs": [],
      "source": [
        "import joblib\n",
        "\n"
      ]
    },
    {
      "cell_type": "code",
      "execution_count": 23,
      "metadata": {
        "id": "fWvsrLwxWLJW"
      },
      "outputs": [],
      "source": [
        "# from sklearn.linear_model import LogisticRegression\n",
        "\n",
        "# # Initialize the Logistic Regression model\n",
        "# model = LogisticRegression()\n",
        "\n",
        "# # Train the model on the training data\n",
        "# model.fit(X_train, y_train)\n",
        "\n",
        "# # Once trained, you can use the model to make predictions on the test data\n",
        "# y_pred = model.predict(X_test)\n",
        "\n"
      ]
    },
    {
      "cell_type": "code",
      "execution_count": 24,
      "metadata": {
        "id": "V0giVFT8WNZA"
      },
      "outputs": [],
      "source": [
        "# from sklearn.metrics import accuracy_score\n",
        "\n",
        "# # Calculate accuracy score\n",
        "# accuracy = accuracy_score(y_test, y_pred)\n",
        "# print(\"Accuracy:\", accuracy)\n"
      ]
    },
    {
      "cell_type": "code",
      "execution_count": 25,
      "metadata": {
        "id": "cv3mTsvJWmR3"
      },
      "outputs": [],
      "source": [
        "# # Extract features from the last row of your dataset\n",
        "# last_row_features = df.drop(columns=['Market_High_Indicator']).iloc[-1]\n",
        "\n",
        "# # Reshape the features array as scikit-learn expects a 2D array\n",
        "# last_row_features = last_row_features.values.reshape(1, -1)\n",
        "\n",
        "# # Predict the next day's market high indicator\n",
        "# next_day_prediction = model.predict(last_row_features)\n",
        "\n",
        "# print(\"Predicted Market High Indicator for the Next Day:\", next_day_prediction[0])\n"
      ]
    },
    {
      "cell_type": "code",
      "execution_count": 26,
      "metadata": {
        "id": "1Ho6ejZhXevW"
      },
      "outputs": [],
      "source": [
        "# # Predict the next day's market high indicator\n",
        "# last_row_features = df.drop(columns=['Market_High_Indicator']).iloc[-1]\n",
        "# last_row_features = last_row_features.values.reshape(1, -1)\n",
        "# next_day_prediction = model.predict(last_row_features)\n",
        "\n",
        "# # Convert the prediction to binary (0 or 1)\n",
        "# next_day_prediction_binary = 1 if next_day_prediction > 0.5 else 0\n",
        "\n",
        "# print(\"Predicted Market High Indicator for the Next Day:\", next_day_prediction_binary)\n"
      ]
    },
    {
      "cell_type": "code",
      "execution_count": null,
      "metadata": {
        "id": "1tA8pYAtqhVN"
      },
      "outputs": [],
      "source": []
    }
  ],
  "metadata": {
    "colab": {
      "include_colab_link": true,
      "provenance": []
    },
    "kernelspec": {
      "display_name": "Python 3",
      "name": "python3"
    },
    "language_info": {
      "codemirror_mode": {
        "name": "ipython",
        "version": 3
      },
      "file_extension": ".py",
      "mimetype": "text/x-python",
      "name": "python",
      "nbconvert_exporter": "python",
      "pygments_lexer": "ipython3",
      "version": "3.10.13"
    }
  },
  "nbformat": 4,
  "nbformat_minor": 0
}
