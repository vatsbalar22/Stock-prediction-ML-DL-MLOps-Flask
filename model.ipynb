{
 "cells": [
  {
   "cell_type": "markdown",
   "metadata": {},
   "source": [
    "# Data extract through AIP and Preprocessing "
   ]
  },
  {
   "cell_type": "code",
   "execution_count": 1,
   "metadata": {},
   "outputs": [],
   "source": [
    "from alpha_vantage.timeseries import TimeSeries\n",
    "api_key = 'RDW63LUED9U3S55M'\n",
    "symbol = 'RELIANCE.BSE'\n",
    "\n",
    "def get_stock_data(symbol, api_key):\n",
    "    ts = TimeSeries(key=api_key, output_format='pandas')\n",
    "    data, meta_data = ts.get_daily(symbol=symbol, outputsize='full')\n",
    "    return data\n",
    "def prepare_data(data):\n",
    "    data = data[['1. open', '2. high', '3. low', '4. close', '5. volume']]\n",
    "    data.columns = ['Open', 'High', 'Low', 'Close', 'Volume']\n",
    "    return data\n",
    "\n",
    "data = get_stock_data(symbol,api_key)\n",
    "df = prepare_data(data)\n",
    "\n"
   ]
  },
  {
   "cell_type": "code",
   "execution_count": 2,
   "metadata": {},
   "outputs": [
    {
     "data": {
      "text/html": [
       "<div>\n",
       "<style scoped>\n",
       "    .dataframe tbody tr th:only-of-type {\n",
       "        vertical-align: middle;\n",
       "    }\n",
       "\n",
       "    .dataframe tbody tr th {\n",
       "        vertical-align: top;\n",
       "    }\n",
       "\n",
       "    .dataframe thead th {\n",
       "        text-align: right;\n",
       "    }\n",
       "</style>\n",
       "<table border=\"1\" class=\"dataframe\">\n",
       "  <thead>\n",
       "    <tr style=\"text-align: right;\">\n",
       "      <th></th>\n",
       "      <th>date</th>\n",
       "      <th>Open</th>\n",
       "      <th>High</th>\n",
       "      <th>Low</th>\n",
       "      <th>Close</th>\n",
       "      <th>Volume</th>\n",
       "    </tr>\n",
       "  </thead>\n",
       "  <tbody>\n",
       "    <tr>\n",
       "      <th>0</th>\n",
       "      <td>2024-02-08</td>\n",
       "      <td>2895.6001</td>\n",
       "      <td>2919.7500</td>\n",
       "      <td>2856.7000</td>\n",
       "      <td>2902.9500</td>\n",
       "      <td>98849.0</td>\n",
       "    </tr>\n",
       "    <tr>\n",
       "      <th>1</th>\n",
       "      <td>2024-02-07</td>\n",
       "      <td>2870.0000</td>\n",
       "      <td>2898.0000</td>\n",
       "      <td>2858.4500</td>\n",
       "      <td>2883.3999</td>\n",
       "      <td>320512.0</td>\n",
       "    </tr>\n",
       "    <tr>\n",
       "      <th>2</th>\n",
       "      <td>2024-02-06</td>\n",
       "      <td>2887.3999</td>\n",
       "      <td>2887.3999</td>\n",
       "      <td>2840.8000</td>\n",
       "      <td>2856.8000</td>\n",
       "      <td>115081.0</td>\n",
       "    </tr>\n",
       "    <tr>\n",
       "      <th>3</th>\n",
       "      <td>2024-02-05</td>\n",
       "      <td>2921.2000</td>\n",
       "      <td>2940.0000</td>\n",
       "      <td>2864.0000</td>\n",
       "      <td>2877.0500</td>\n",
       "      <td>128072.0</td>\n",
       "    </tr>\n",
       "    <tr>\n",
       "      <th>4</th>\n",
       "      <td>2024-02-02</td>\n",
       "      <td>2864.4500</td>\n",
       "      <td>2949.8999</td>\n",
       "      <td>2864.4500</td>\n",
       "      <td>2914.7500</td>\n",
       "      <td>653622.0</td>\n",
       "    </tr>\n",
       "    <tr>\n",
       "      <th>...</th>\n",
       "      <td>...</td>\n",
       "      <td>...</td>\n",
       "      <td>...</td>\n",
       "      <td>...</td>\n",
       "      <td>...</td>\n",
       "      <td>...</td>\n",
       "    </tr>\n",
       "    <tr>\n",
       "      <th>4703</th>\n",
       "      <td>2005-01-07</td>\n",
       "      <td>359.8269</td>\n",
       "      <td>373.1159</td>\n",
       "      <td>359.5202</td>\n",
       "      <td>368.5840</td>\n",
       "      <td>16969845.0</td>\n",
       "    </tr>\n",
       "    <tr>\n",
       "      <th>4704</th>\n",
       "      <td>2005-01-06</td>\n",
       "      <td>357.7824</td>\n",
       "      <td>365.6195</td>\n",
       "      <td>356.1468</td>\n",
       "      <td>358.4297</td>\n",
       "      <td>13446517.0</td>\n",
       "    </tr>\n",
       "    <tr>\n",
       "      <th>4705</th>\n",
       "      <td>2005-01-05</td>\n",
       "      <td>358.1230</td>\n",
       "      <td>363.9158</td>\n",
       "      <td>351.8194</td>\n",
       "      <td>361.1217</td>\n",
       "      <td>16954266.0</td>\n",
       "    </tr>\n",
       "    <tr>\n",
       "      <th>4706</th>\n",
       "      <td>2005-01-04</td>\n",
       "      <td>364.5972</td>\n",
       "      <td>371.3782</td>\n",
       "      <td>360.8491</td>\n",
       "      <td>361.7351</td>\n",
       "      <td>10059943.0</td>\n",
       "    </tr>\n",
       "    <tr>\n",
       "      <th>4707</th>\n",
       "      <td>2005-01-03</td>\n",
       "      <td>354.4090</td>\n",
       "      <td>371.0715</td>\n",
       "      <td>354.4090</td>\n",
       "      <td>370.1173</td>\n",
       "      <td>11842921.0</td>\n",
       "    </tr>\n",
       "  </tbody>\n",
       "</table>\n",
       "<p>4708 rows × 6 columns</p>\n",
       "</div>"
      ],
      "text/plain": [
       "           date       Open       High        Low      Close      Volume\n",
       "0    2024-02-08  2895.6001  2919.7500  2856.7000  2902.9500     98849.0\n",
       "1    2024-02-07  2870.0000  2898.0000  2858.4500  2883.3999    320512.0\n",
       "2    2024-02-06  2887.3999  2887.3999  2840.8000  2856.8000    115081.0\n",
       "3    2024-02-05  2921.2000  2940.0000  2864.0000  2877.0500    128072.0\n",
       "4    2024-02-02  2864.4500  2949.8999  2864.4500  2914.7500    653622.0\n",
       "...         ...        ...        ...        ...        ...         ...\n",
       "4703 2005-01-07   359.8269   373.1159   359.5202   368.5840  16969845.0\n",
       "4704 2005-01-06   357.7824   365.6195   356.1468   358.4297  13446517.0\n",
       "4705 2005-01-05   358.1230   363.9158   351.8194   361.1217  16954266.0\n",
       "4706 2005-01-04   364.5972   371.3782   360.8491   361.7351  10059943.0\n",
       "4707 2005-01-03   354.4090   371.0715   354.4090   370.1173  11842921.0\n",
       "\n",
       "[4708 rows x 6 columns]"
      ]
     },
     "execution_count": 2,
     "metadata": {},
     "output_type": "execute_result"
    }
   ],
   "source": [
    "df =df.reset_index()\n",
    "df\n"
   ]
  },
  {
   "cell_type": "code",
   "execution_count": 3,
   "metadata": {},
   "outputs": [
    {
     "name": "stdout",
     "output_type": "stream",
     "text": [
      "           date       Open       High        Low      Close      Volume  \\\n",
      "0    2024-02-08  2895.6001  2919.7500  2856.7000  2902.9500     98849.0   \n",
      "1    2024-02-07  2870.0000  2898.0000  2858.4500  2883.3999    320512.0   \n",
      "2    2024-02-06  2887.3999  2887.3999  2840.8000  2856.8000    115081.0   \n",
      "3    2024-02-05  2921.2000  2940.0000  2864.0000  2877.0500    128072.0   \n",
      "4    2024-02-02  2864.4500  2949.8999  2864.4500  2914.7500    653622.0   \n",
      "...         ...        ...        ...        ...        ...         ...   \n",
      "4703 2005-01-07   359.8269   373.1159   359.5202   368.5840  16969845.0   \n",
      "4704 2005-01-06   357.7824   365.6195   356.1468   358.4297  13446517.0   \n",
      "4705 2005-01-05   358.1230   363.9158   351.8194   361.1217  16954266.0   \n",
      "4706 2005-01-04   364.5972   371.3782   360.8491   361.7351  10059943.0   \n",
      "4707 2005-01-03   354.4090   371.0715   354.4090   370.1173  11842921.0   \n",
      "\n",
      "      Market_High_Indicator  \n",
      "0                         0  \n",
      "1                         0  \n",
      "2                         1  \n",
      "3                         1  \n",
      "4                         1  \n",
      "...                     ...  \n",
      "4703                      1  \n",
      "4704                      0  \n",
      "4705                      1  \n",
      "4706                      1  \n",
      "4707                      1  \n",
      "\n",
      "[4708 rows x 7 columns]\n"
     ]
    }
   ],
   "source": [
    "# Assuming 'df' is your DataFrame containing the stock data\n",
    "\n",
    "# Add a new column 'Market_High_Indicator' to indicate if the market high was reached\n",
    "df['Market_High_Indicator'] = (df['High'] > df['Close'].shift(1)).astype(int)\n",
    "\n",
    "# Display the DataFrame with the new column\n",
    "print(df)\n"
   ]
  },
  {
   "cell_type": "code",
   "execution_count": 4,
   "metadata": {},
   "outputs": [
    {
     "data": {
      "text/html": [
       "<div>\n",
       "<style scoped>\n",
       "    .dataframe tbody tr th:only-of-type {\n",
       "        vertical-align: middle;\n",
       "    }\n",
       "\n",
       "    .dataframe tbody tr th {\n",
       "        vertical-align: top;\n",
       "    }\n",
       "\n",
       "    .dataframe thead th {\n",
       "        text-align: right;\n",
       "    }\n",
       "</style>\n",
       "<table border=\"1\" class=\"dataframe\">\n",
       "  <thead>\n",
       "    <tr style=\"text-align: right;\">\n",
       "      <th></th>\n",
       "      <th>date</th>\n",
       "      <th>Open</th>\n",
       "      <th>High</th>\n",
       "      <th>Low</th>\n",
       "      <th>Close</th>\n",
       "      <th>Volume</th>\n",
       "      <th>Market_High_Indicator</th>\n",
       "    </tr>\n",
       "  </thead>\n",
       "  <tbody>\n",
       "    <tr>\n",
       "      <th>0</th>\n",
       "      <td>2024-02-08</td>\n",
       "      <td>2895.6001</td>\n",
       "      <td>2919.7500</td>\n",
       "      <td>2856.70</td>\n",
       "      <td>2902.9500</td>\n",
       "      <td>98849.0</td>\n",
       "      <td>0</td>\n",
       "    </tr>\n",
       "    <tr>\n",
       "      <th>1</th>\n",
       "      <td>2024-02-07</td>\n",
       "      <td>2870.0000</td>\n",
       "      <td>2898.0000</td>\n",
       "      <td>2858.45</td>\n",
       "      <td>2883.3999</td>\n",
       "      <td>320512.0</td>\n",
       "      <td>0</td>\n",
       "    </tr>\n",
       "    <tr>\n",
       "      <th>2</th>\n",
       "      <td>2024-02-06</td>\n",
       "      <td>2887.3999</td>\n",
       "      <td>2887.3999</td>\n",
       "      <td>2840.80</td>\n",
       "      <td>2856.8000</td>\n",
       "      <td>115081.0</td>\n",
       "      <td>1</td>\n",
       "    </tr>\n",
       "    <tr>\n",
       "      <th>3</th>\n",
       "      <td>2024-02-05</td>\n",
       "      <td>2921.2000</td>\n",
       "      <td>2940.0000</td>\n",
       "      <td>2864.00</td>\n",
       "      <td>2877.0500</td>\n",
       "      <td>128072.0</td>\n",
       "      <td>1</td>\n",
       "    </tr>\n",
       "    <tr>\n",
       "      <th>4</th>\n",
       "      <td>2024-02-02</td>\n",
       "      <td>2864.4500</td>\n",
       "      <td>2949.8999</td>\n",
       "      <td>2864.45</td>\n",
       "      <td>2914.7500</td>\n",
       "      <td>653622.0</td>\n",
       "      <td>1</td>\n",
       "    </tr>\n",
       "  </tbody>\n",
       "</table>\n",
       "</div>"
      ],
      "text/plain": [
       "        date       Open       High      Low      Close    Volume  \\\n",
       "0 2024-02-08  2895.6001  2919.7500  2856.70  2902.9500   98849.0   \n",
       "1 2024-02-07  2870.0000  2898.0000  2858.45  2883.3999  320512.0   \n",
       "2 2024-02-06  2887.3999  2887.3999  2840.80  2856.8000  115081.0   \n",
       "3 2024-02-05  2921.2000  2940.0000  2864.00  2877.0500  128072.0   \n",
       "4 2024-02-02  2864.4500  2949.8999  2864.45  2914.7500  653622.0   \n",
       "\n",
       "   Market_High_Indicator  \n",
       "0                      0  \n",
       "1                      0  \n",
       "2                      1  \n",
       "3                      1  \n",
       "4                      1  "
      ]
     },
     "execution_count": 4,
     "metadata": {},
     "output_type": "execute_result"
    }
   ],
   "source": [
    "df.head()"
   ]
  },
  {
   "cell_type": "markdown",
   "metadata": {},
   "source": [
    "# Data Analysis and Visualization"
   ]
  },
  {
   "cell_type": "code",
   "execution_count": 5,
   "metadata": {},
   "outputs": [
    {
     "data": {
      "image/png": "[encoded data removed]",
      "text/plain": [
       "<Figure size 1200x600 with 1 Axes>"
      ]
     },
     "metadata": {},
     "output_type": "display_data"
    }
   ],
   "source": [
    "import matplotlib.pyplot as plt\n",
    "\n",
    "# Plotting the closing prices using numerical index\n",
    "plt.figure(figsize=(12,6))\n",
    "plt.plot(df['date'], df['Close'], label='Close Price', color='blue')\n",
    "plt.title('Stock Close Price Over Time')\n",
    "plt.xlabel('Index')\n",
    "plt.ylabel('Close Price')\n",
    "plt.legend()\n",
    "plt.show()\n"
   ]
  },
  {
   "cell_type": "code",
   "execution_count": 6,
   "metadata": {},
   "outputs": [
    {
     "data": {
      "text/html": [
       "<div>\n",
       "<style scoped>\n",
       "    .dataframe tbody tr th:only-of-type {\n",
       "        vertical-align: middle;\n",
       "    }\n",
       "\n",
       "    .dataframe tbody tr th {\n",
       "        vertical-align: top;\n",
       "    }\n",
       "\n",
       "    .dataframe thead th {\n",
       "        text-align: right;\n",
       "    }\n",
       "</style>\n",
       "<table border=\"1\" class=\"dataframe\">\n",
       "  <thead>\n",
       "    <tr style=\"text-align: right;\">\n",
       "      <th></th>\n",
       "      <th>date</th>\n",
       "      <th>Open</th>\n",
       "      <th>High</th>\n",
       "      <th>Low</th>\n",
       "      <th>Close</th>\n",
       "      <th>Volume</th>\n",
       "      <th>Market_High_Indicator</th>\n",
       "    </tr>\n",
       "  </thead>\n",
       "  <tbody>\n",
       "    <tr>\n",
       "      <th>count</th>\n",
       "      <td>4708</td>\n",
       "      <td>4708.000000</td>\n",
       "      <td>4708.000000</td>\n",
       "      <td>4708.000000</td>\n",
       "      <td>4708.000000</td>\n",
       "      <td>4.708000e+03</td>\n",
       "      <td>4708.000000</td>\n",
       "    </tr>\n",
       "    <tr>\n",
       "      <th>mean</th>\n",
       "      <td>2014-07-22 00:43:25.947323648</td>\n",
       "      <td>1268.814708</td>\n",
       "      <td>1285.184391</td>\n",
       "      <td>1252.046889</td>\n",
       "      <td>1268.113529</td>\n",
       "      <td>2.981169e+06</td>\n",
       "      <td>0.741079</td>\n",
       "    </tr>\n",
       "    <tr>\n",
       "      <th>min</th>\n",
       "      <td>2005-01-03 00:00:00</td>\n",
       "      <td>344.152500</td>\n",
       "      <td>347.798500</td>\n",
       "      <td>339.518500</td>\n",
       "      <td>341.699200</td>\n",
       "      <td>0.000000e+00</td>\n",
       "      <td>0.000000</td>\n",
       "    </tr>\n",
       "    <tr>\n",
       "      <th>25%</th>\n",
       "      <td>2009-10-13 12:00:00</td>\n",
       "      <td>823.192300</td>\n",
       "      <td>830.120675</td>\n",
       "      <td>812.287125</td>\n",
       "      <td>822.064225</td>\n",
       "      <td>4.218022e+05</td>\n",
       "      <td>0.000000</td>\n",
       "    </tr>\n",
       "    <tr>\n",
       "      <th>50%</th>\n",
       "      <td>2014-07-16 12:00:00</td>\n",
       "      <td>989.084250</td>\n",
       "      <td>1002.804200</td>\n",
       "      <td>975.364400</td>\n",
       "      <td>988.058750</td>\n",
       "      <td>8.698080e+05</td>\n",
       "      <td>1.000000</td>\n",
       "    </tr>\n",
       "    <tr>\n",
       "      <th>75%</th>\n",
       "      <td>2019-05-07 06:00:00</td>\n",
       "      <td>1805.006700</td>\n",
       "      <td>1826.190775</td>\n",
       "      <td>1775.185550</td>\n",
       "      <td>1800.859125</td>\n",
       "      <td>2.540924e+06</td>\n",
       "      <td>1.000000</td>\n",
       "    </tr>\n",
       "    <tr>\n",
       "      <th>max</th>\n",
       "      <td>2024-02-08 00:00:00</td>\n",
       "      <td>2931.768100</td>\n",
       "      <td>2964.677700</td>\n",
       "      <td>2864.450000</td>\n",
       "      <td>2932.041700</td>\n",
       "      <td>8.021841e+08</td>\n",
       "      <td>1.000000</td>\n",
       "    </tr>\n",
       "    <tr>\n",
       "      <th>std</th>\n",
       "      <td>NaN</td>\n",
       "      <td>606.678792</td>\n",
       "      <td>614.877593</td>\n",
       "      <td>598.711635</td>\n",
       "      <td>606.803088</td>\n",
       "      <td>2.070018e+07</td>\n",
       "      <td>0.438089</td>\n",
       "    </tr>\n",
       "  </tbody>\n",
       "</table>\n",
       "</div>"
      ],
      "text/plain": [
       "                                date         Open         High          Low  \\\n",
       "count                           4708  4708.000000  4708.000000  4708.000000   \n",
       "mean   2014-07-22 00:43:25.947323648  1268.814708  1285.184391  1252.046889   \n",
       "min              2005-01-03 00:00:00   344.152500   347.798500   339.518500   \n",
       "25%              2009-10-13 12:00:00   823.192300   830.120675   812.287125   \n",
       "50%              2014-07-16 12:00:00   989.084250  1002.804200   975.364400   \n",
       "75%              2019-05-07 06:00:00  1805.006700  1826.190775  1775.185550   \n",
       "max              2024-02-08 00:00:00  2931.768100  2964.677700  2864.450000   \n",
       "std                              NaN   606.678792   614.877593   598.711635   \n",
       "\n",
       "             Close        Volume  Market_High_Indicator  \n",
       "count  4708.000000  4.708000e+03            4708.000000  \n",
       "mean   1268.113529  2.981169e+06               0.741079  \n",
       "min     341.699200  0.000000e+00               0.000000  \n",
       "25%     822.064225  4.218022e+05               0.000000  \n",
       "50%     988.058750  8.698080e+05               1.000000  \n",
       "75%    1800.859125  2.540924e+06               1.000000  \n",
       "max    2932.041700  8.021841e+08               1.000000  \n",
       "std     606.803088  2.070018e+07               0.438089  "
      ]
     },
     "execution_count": 6,
     "metadata": {},
     "output_type": "execute_result"
    }
   ],
   "source": [
    "df.describe()"
   ]
  },
  {
   "cell_type": "code",
   "execution_count": 7,
   "metadata": {},
   "outputs": [
    {
     "name": "stdout",
     "output_type": "stream",
     "text": [
      "<class 'pandas.core.frame.DataFrame'>\n",
      "RangeIndex: 4708 entries, 0 to 4707\n",
      "Data columns (total 7 columns):\n",
      " #   Column                 Non-Null Count  Dtype         \n",
      "---  ------                 --------------  -----         \n",
      " 0   date                   4708 non-null   datetime64[ns]\n",
      " 1   Open                   4708 non-null   float64       \n",
      " 2   High                   4708 non-null   float64       \n",
      " 3   Low                    4708 non-null   float64       \n",
      " 4   Close                  4708 non-null   float64       \n",
      " 5   Volume                 4708 non-null   float64       \n",
      " 6   Market_High_Indicator  4708 non-null   int64         \n",
      "dtypes: datetime64[ns](1), float64(5), int64(1)\n",
      "memory usage: 257.6 KB\n"
     ]
    }
   ],
   "source": [
    "df.info()"
   ]
  },
  {
   "cell_type": "code",
   "execution_count": 8,
   "metadata": {},
   "outputs": [
    {
     "data": {
      "image/png": "[encoded data removed]",
      "text/plain": [
       "<Figure size 1000x800 with 2 Axes>"
      ]
     },
     "metadata": {},
     "output_type": "display_data"
    }
   ],
   "source": [
    "import seaborn as sns\n",
    "\n",
    "# Compute the correlation matrix\n",
    "correlation_matrix = df.corr()\n",
    "\n",
    "# Plot the correlation matrix as a heatmap\n",
    "plt.figure(figsize=(10, 8))\n",
    "sns.heatmap(correlation_matrix, annot=True, cmap='coolwarm', fmt=\".2f\")\n",
    "plt.title('Correlation Plot of Stock Data Features')\n",
    "plt.show()\n"
   ]
  },
  {
   "cell_type": "code",
   "execution_count": 9,
   "metadata": {},
   "outputs": [
    {
     "data": {
      "text/html": [
       "<div>\n",
       "<style scoped>\n",
       "    .dataframe tbody tr th:only-of-type {\n",
       "        vertical-align: middle;\n",
       "    }\n",
       "\n",
       "    .dataframe tbody tr th {\n",
       "        vertical-align: top;\n",
       "    }\n",
       "\n",
       "    .dataframe thead th {\n",
       "        text-align: right;\n",
       "    }\n",
       "</style>\n",
       "<table border=\"1\" class=\"dataframe\">\n",
       "  <thead>\n",
       "    <tr style=\"text-align: right;\">\n",
       "      <th></th>\n",
       "      <th>date</th>\n",
       "      <th>Open</th>\n",
       "      <th>High</th>\n",
       "      <th>Low</th>\n",
       "      <th>Close</th>\n",
       "      <th>Volume</th>\n",
       "      <th>Market_High_Indicator</th>\n",
       "    </tr>\n",
       "  </thead>\n",
       "  <tbody>\n",
       "    <tr>\n",
       "      <th>0</th>\n",
       "      <td>2024-02-08</td>\n",
       "      <td>2895.6001</td>\n",
       "      <td>2919.7500</td>\n",
       "      <td>2856.70</td>\n",
       "      <td>2902.9500</td>\n",
       "      <td>98849.0</td>\n",
       "      <td>0</td>\n",
       "    </tr>\n",
       "    <tr>\n",
       "      <th>1</th>\n",
       "      <td>2024-02-07</td>\n",
       "      <td>2870.0000</td>\n",
       "      <td>2898.0000</td>\n",
       "      <td>2858.45</td>\n",
       "      <td>2883.3999</td>\n",
       "      <td>320512.0</td>\n",
       "      <td>0</td>\n",
       "    </tr>\n",
       "    <tr>\n",
       "      <th>2</th>\n",
       "      <td>2024-02-06</td>\n",
       "      <td>2887.3999</td>\n",
       "      <td>2887.3999</td>\n",
       "      <td>2840.80</td>\n",
       "      <td>2856.8000</td>\n",
       "      <td>115081.0</td>\n",
       "      <td>1</td>\n",
       "    </tr>\n",
       "    <tr>\n",
       "      <th>3</th>\n",
       "      <td>2024-02-05</td>\n",
       "      <td>2921.2000</td>\n",
       "      <td>2940.0000</td>\n",
       "      <td>2864.00</td>\n",
       "      <td>2877.0500</td>\n",
       "      <td>128072.0</td>\n",
       "      <td>1</td>\n",
       "    </tr>\n",
       "    <tr>\n",
       "      <th>4</th>\n",
       "      <td>2024-02-02</td>\n",
       "      <td>2864.4500</td>\n",
       "      <td>2949.8999</td>\n",
       "      <td>2864.45</td>\n",
       "      <td>2914.7500</td>\n",
       "      <td>653622.0</td>\n",
       "      <td>1</td>\n",
       "    </tr>\n",
       "  </tbody>\n",
       "</table>\n",
       "</div>"
      ],
      "text/plain": [
       "        date       Open       High      Low      Close    Volume  \\\n",
       "0 2024-02-08  2895.6001  2919.7500  2856.70  2902.9500   98849.0   \n",
       "1 2024-02-07  2870.0000  2898.0000  2858.45  2883.3999  320512.0   \n",
       "2 2024-02-06  2887.3999  2887.3999  2840.80  2856.8000  115081.0   \n",
       "3 2024-02-05  2921.2000  2940.0000  2864.00  2877.0500  128072.0   \n",
       "4 2024-02-02  2864.4500  2949.8999  2864.45  2914.7500  653622.0   \n",
       "\n",
       "   Market_High_Indicator  \n",
       "0                      0  \n",
       "1                      0  \n",
       "2                      1  \n",
       "3                      1  \n",
       "4                      1  "
      ]
     },
     "execution_count": 9,
     "metadata": {},
     "output_type": "execute_result"
    }
   ],
   "source": [
    "df.head()"
   ]
  },
  {
   "cell_type": "markdown",
   "metadata": {},
   "source": [
    "# Model training"
   ]
  },
  {
   "cell_type": "code",
   "execution_count": 10,
   "metadata": {},
   "outputs": [
    {
     "name": "stdout",
     "output_type": "stream",
     "text": [
      "X_train shape: (3766, 4)\n",
      "X_test shape: (942, 4)\n",
      "y_train shape: (3766,)\n",
      "y_test shape: (942,)\n"
     ]
    }
   ],
   "source": [
    "from sklearn.model_selection import train_test_split\n",
    "\n",
    "# Define features (X) and target variable (y)\n",
    "X = df.drop(columns=['Market_High_Indicator', 'High', 'date'])\n",
    "y = df['Market_High_Indicator']\n",
    "\n",
    "# Split the data into training and testing sets\n",
    "X_train, X_test, y_train, y_test = train_test_split(X, y, test_size=0.2, random_state=42)\n",
    "\n",
    "# Display the shapes of the training and testing sets\n",
    "print(\"X_train shape:\", X_train.shape)\n",
    "print(\"X_test shape:\", X_test.shape)\n",
    "print(\"y_train shape:\", y_train.shape)\n",
    "print(\"y_test shape:\", y_test.shape)\n"
   ]
  },
  {
   "cell_type": "code",
   "execution_count": 12,
   "metadata": {},
   "outputs": [],
   "source": [
    "from sklearn.preprocessing import MinMaxScaler\n",
    "\n",
    "# Initialize the scaler with feature_range=(0, 1)\n",
    "scaler = MinMaxScaler(feature_range=(0, 1))\n",
    "\n",
    "# Fit the scaler on the training data and transform it\n",
    "X_train_scaled = scaler.fit_transform(X_train)\n",
    "\n",
    "# Transform the test data using the same scaler\n",
    "X_test_scaled = scaler.transform(X_test)\n"
   ]
  },
  {
   "cell_type": "code",
   "execution_count": 13,
   "metadata": {},
   "outputs": [
    {
     "data": {
      "text/html": [
       "<style>#sk-container-id-1 {color: black;}#sk-container-id-1 pre{padding: 0;}#sk-container-id-1 div.sk-toggleable {background-color: white;}#sk-container-id-1 label.sk-toggleable__label {cursor: pointer;display: block;width: 100%;margin-bottom: 0;padding: 0.3em;box-sizing: border-box;text-align: center;}#sk-container-id-1 label.sk-toggleable__label-arrow:before {content: \"▸\";float: left;margin-right: 0.25em;color: #696969;}#sk-container-id-1 label.sk-toggleable__label-arrow:hover:before {color: black;}#sk-container-id-1 div.sk-estimator:hover label.sk-toggleable__label-arrow:before {color: black;}#sk-container-id-1 div.sk-toggleable__content {max-height: 0;max-width: 0;overflow: hidden;text-align: left;background-color: #f0f8ff;}#sk-container-id-1 div.sk-toggleable__content pre {margin: 0.2em;color: black;border-radius: 0.25em;background-color: #f0f8ff;}#sk-container-id-1 input.sk-toggleable__control:checked~div.sk-toggleable__content {max-height: 200px;max-width: 100%;overflow: auto;}#sk-container-id-1 input.sk-toggleable__control:checked~label.sk-toggleable__label-arrow:before {content: \"▾\";}#sk-container-id-1 div.sk-estimator input.sk-toggleable__control:checked~label.sk-toggleable__label {background-color: #d4ebff;}#sk-container-id-1 div.sk-label input.sk-toggleable__control:checked~label.sk-toggleable__label {background-color: #d4ebff;}#sk-container-id-1 input.sk-hidden--visually {border: 0;clip: rect(1px 1px 1px 1px);clip: rect(1px, 1px, 1px, 1px);height: 1px;margin: -1px;overflow: hidden;padding: 0;position: absolute;width: 1px;}#sk-container-id-1 div.sk-estimator {font-family: monospace;background-color: #f0f8ff;border: 1px dotted black;border-radius: 0.25em;box-sizing: border-box;margin-bottom: 0.5em;}#sk-container-id-1 div.sk-estimator:hover {background-color: #d4ebff;}#sk-container-id-1 div.sk-parallel-item::after {content: \"\";width: 100%;border-bottom: 1px solid gray;flex-grow: 1;}#sk-container-id-1 div.sk-label:hover label.sk-toggleable__label {background-color: #d4ebff;}#sk-container-id-1 div.sk-serial::before {content: \"\";position: absolute;border-left: 1px solid gray;box-sizing: border-box;top: 0;bottom: 0;left: 50%;z-index: 0;}#sk-container-id-1 div.sk-serial {display: flex;flex-direction: column;align-items: center;background-color: white;padding-right: 0.2em;padding-left: 0.2em;position: relative;}#sk-container-id-1 div.sk-item {position: relative;z-index: 1;}#sk-container-id-1 div.sk-parallel {display: flex;align-items: stretch;justify-content: center;background-color: white;position: relative;}#sk-container-id-1 div.sk-item::before, #sk-container-id-1 div.sk-parallel-item::before {content: \"\";position: absolute;border-left: 1px solid gray;box-sizing: border-box;top: 0;bottom: 0;left: 50%;z-index: -1;}#sk-container-id-1 div.sk-parallel-item {display: flex;flex-direction: column;z-index: 1;position: relative;background-color: white;}#sk-container-id-1 div.sk-parallel-item:first-child::after {align-self: flex-end;width: 50%;}#sk-container-id-1 div.sk-parallel-item:last-child::after {align-self: flex-start;width: 50%;}#sk-container-id-1 div.sk-parallel-item:only-child::after {width: 0;}#sk-container-id-1 div.sk-dashed-wrapped {border: 1px dashed gray;margin: 0 0.4em 0.5em 0.4em;box-sizing: border-box;padding-bottom: 0.4em;background-color: white;}#sk-container-id-1 div.sk-label label {font-family: monospace;font-weight: bold;display: inline-block;line-height: 1.2em;}#sk-container-id-1 div.sk-label-container {text-align: center;}#sk-container-id-1 div.sk-container {/* jupyter's `normalize.less` sets `[hidden] { display: none; }` but bootstrap.min.css set `[hidden] { display: none !important; }` so we also need the `!important` here to be able to override the default hidden behavior on the sphinx rendered scikit-learn.org. See: https://github.com/scikit-learn/scikit-learn/issues/21755 */display: inline-block !important;position: relative;}#sk-container-id-1 div.sk-text-repr-fallback {display: none;}</style><div id=\"sk-container-id-1\" class=\"sk-top-container\"><div class=\"sk-text-repr-fallback\"><pre>LogisticRegression(random_state=42)</pre><b>In a Jupyter environment, please rerun this cell to show the HTML representation or trust the notebook. <br />On GitHub, the HTML representation is unable to render, please try loading this page with nbviewer.org.</b></div><div class=\"sk-container\" hidden><div class=\"sk-item\"><div class=\"sk-estimator sk-toggleable\"><input class=\"sk-toggleable__control sk-hidden--visually\" id=\"sk-estimator-id-1\" type=\"checkbox\" checked><label for=\"sk-estimator-id-1\" class=\"sk-toggleable__label sk-toggleable__label-arrow\">LogisticRegression</label><div class=\"sk-toggleable__content\"><pre>LogisticRegression(random_state=42)</pre></div></div></div></div></div>"
      ],
      "text/plain": [
       "LogisticRegression(random_state=42)"
      ]
     },
     "execution_count": 13,
     "metadata": {},
     "output_type": "execute_result"
    }
   ],
   "source": [
    "from sklearn.linear_model import LogisticRegression\n",
    "\n",
    "# Initialize the Logistic Regression model\n",
    "model = LogisticRegression(random_state=42)\n",
    "\n",
    "# Train the model on the scaled training data\n",
    "model.fit(X_train_scaled, y_train)\n"
   ]
  },
  {
   "cell_type": "markdown",
   "metadata": {},
   "source": [
    "# Predict and Evaluate the Model"
   ]
  },
  {
   "cell_type": "code",
   "execution_count": 14,
   "metadata": {},
   "outputs": [],
   "source": [
    "# Predict on the scaled test data\n",
    "predictions = model.predict(X_test_scaled)\n"
   ]
  },
  {
   "cell_type": "code",
   "execution_count": 15,
   "metadata": {},
   "outputs": [
    {
     "name": "stdout",
     "output_type": "stream",
     "text": [
      "Accuracy: 0.7388535031847133\n"
     ]
    }
   ],
   "source": [
    "from sklearn.metrics import accuracy_score\n",
    "\n",
    "# Calculate accuracy score\n",
    "accuracy = accuracy_score(y_test, predictions)\n",
    "\n",
    "# Print the accuracy\n",
    "print(\"Accuracy:\", accuracy)\n"
   ]
  },
  {
   "cell_type": "markdown",
   "metadata": {},
   "source": [
    "# Predict Next day Market"
   ]
  },
  {
   "cell_type": "code",
   "execution_count": 17,
   "metadata": {},
   "outputs": [
    {
     "name": "stdout",
     "output_type": "stream",
     "text": [
      "Predicted next day's high price: [1]\n"
     ]
    },
    {
     "name": "stderr",
     "output_type": "stream",
     "text": [
      "/home/codespace/.local/lib/python3.10/site-packages/sklearn/base.py:465: UserWarning: X does not have valid feature names, but MinMaxScaler was fitted with feature names\n",
      "  warnings.warn(\n"
     ]
    }
   ],
   "source": [
    "# Extract the last row of the DataFrame\n",
    "last_row = df.iloc[-1]\n",
    "\n",
    "# Extract the relevant features (excluding 'High') and reshape into the format expected by your model\n",
    "# X_new = np.array([[937.70, 918.70, 937.70, 924.45, 380102.0]])\n",
    "X_new = last_row[['Open', 'Low', 'Close', 'Volume']].values.reshape(1, -1)\n",
    "\n",
    "# Scale the new feature data using the same scaler used for training\n",
    "X_new_scaled = scaler.transform(X_new)\n",
    "\n",
    "# Predict the next day's high price\n",
    "next_day_high = model.predict(X_new_scaled)\n",
    "\n",
    "print(\"Predicted next day's price:\", next_day_high)\n"
   ]
  }
 ],
 "metadata": {
  "kernelspec": {
   "display_name": "Python 3",
   "language": "python",
   "name": "python3"
  },
  "language_info": {
   "codemirror_mode": {
    "name": "ipython",
    "version": 3
   },
   "file_extension": ".py",
   "mimetype": "text/x-python",
   "name": "python",
   "nbconvert_exporter": "python",
   "pygments_lexer": "ipython3",
   "version": "3.10.13"
  }
 },
 "nbformat": 4,
 "nbformat_minor": 2
}
